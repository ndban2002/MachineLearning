{
 "cells": [
  {
   "cell_type": "code",
   "execution_count": 11,
   "metadata": {},
   "outputs": [
    {
     "name": "stdout",
     "output_type": "stream",
     "text": [
      "Collecting scikit-learn\n",
      "  Downloading scikit_learn-1.1.3-cp38-cp38-win_amd64.whl (7.5 MB)\n",
      "     ---------------------------------------- 7.5/7.5 MB 4.3 MB/s eta 0:00:00\n",
      "Requirement already satisfied: numpy>=1.17.3 in c:\\users\\admin\\appdata\\local\\programs\\python\\python38\\lib\\site-packages (from scikit-learn) (1.23.4)\n",
      "Collecting joblib>=1.0.0\n",
      "  Downloading joblib-1.2.0-py3-none-any.whl (297 kB)\n",
      "     -------------------------------------- 298.0/298.0 kB 4.6 MB/s eta 0:00:00\n",
      "Collecting scipy>=1.3.2\n",
      "  Downloading scipy-1.9.3-cp38-cp38-win_amd64.whl (39.8 MB)\n",
      "     ---------------------------------------- 39.8/39.8 MB 3.5 MB/s eta 0:00:00\n",
      "Collecting threadpoolctl>=2.0.0\n",
      "  Downloading threadpoolctl-3.1.0-py3-none-any.whl (14 kB)\n",
      "Installing collected packages: threadpoolctl, scipy, joblib, scikit-learn\n",
      "Successfully installed joblib-1.2.0 scikit-learn-1.1.3 scipy-1.9.3 threadpoolctl-3.1.0\n"
     ]
    },
    {
     "name": "stderr",
     "output_type": "stream",
     "text": [
      "\n",
      "[notice] A new release of pip available: 22.3 -> 22.3.1\n",
      "[notice] To update, run: c:\\users\\admin\\appdata\\local\\programs\\python\\python38\\python.exe -m pip install --upgrade pip\n"
     ]
    }
   ],
   "source": [
    "!pip install scikit-learn"
   ]
  },
  {
   "cell_type": "markdown",
   "metadata": {
    "id": "5S3a0K6FRI10"
   },
   "source": [
    "# Stochastic Gradient Descent"
   ]
  },
  {
   "cell_type": "code",
   "execution_count": 1,
   "metadata": {
    "id": "uMJJl_y8D6Gu"
   },
   "outputs": [],
   "source": [
    "import numpy as np\n",
    "import pandas as pd\n",
    "import matplotlib.pyplot as plt\n",
    "from matplotlib import style\n",
    "style.use(\"fivethirtyeight\")\n",
    "import seaborn as sns\n",
    "import warnings\n",
    "warnings.filterwarnings(\"ignore\")"
   ]
  },
  {
   "cell_type": "code",
   "execution_count": 2,
   "metadata": {
    "colab": {
     "base_uri": "https://localhost:8080/",
     "height": 206
    },
    "id": "5CcttHHgEIKG",
    "outputId": "a7c851eb-a79a-491f-85af-5daa7bc47557"
   },
   "outputs": [
    {
     "data": {
      "text/html": [
       "<div>\n",
       "<style scoped>\n",
       "    .dataframe tbody tr th:only-of-type {\n",
       "        vertical-align: middle;\n",
       "    }\n",
       "\n",
       "    .dataframe tbody tr th {\n",
       "        vertical-align: top;\n",
       "    }\n",
       "\n",
       "    .dataframe thead th {\n",
       "        text-align: right;\n",
       "    }\n",
       "</style>\n",
       "<table border=\"1\" class=\"dataframe\">\n",
       "  <thead>\n",
       "    <tr style=\"text-align: right;\">\n",
       "      <th></th>\n",
       "      <th>YearsExperience</th>\n",
       "      <th>Salary</th>\n",
       "      <th>age</th>\n",
       "      <th>company_change</th>\n",
       "      <th>type</th>\n",
       "    </tr>\n",
       "  </thead>\n",
       "  <tbody>\n",
       "    <tr>\n",
       "      <th>0</th>\n",
       "      <td>1.1</td>\n",
       "      <td>39343</td>\n",
       "      <td>21</td>\n",
       "      <td>1</td>\n",
       "      <td>junior</td>\n",
       "    </tr>\n",
       "    <tr>\n",
       "      <th>1</th>\n",
       "      <td>1.3</td>\n",
       "      <td>46205</td>\n",
       "      <td>31</td>\n",
       "      <td>0</td>\n",
       "      <td>middle</td>\n",
       "    </tr>\n",
       "    <tr>\n",
       "      <th>2</th>\n",
       "      <td>1.5</td>\n",
       "      <td>37731</td>\n",
       "      <td>29</td>\n",
       "      <td>1</td>\n",
       "      <td>middle</td>\n",
       "    </tr>\n",
       "    <tr>\n",
       "      <th>3</th>\n",
       "      <td>2.0</td>\n",
       "      <td>43525</td>\n",
       "      <td>30</td>\n",
       "      <td>1</td>\n",
       "      <td>middle</td>\n",
       "    </tr>\n",
       "    <tr>\n",
       "      <th>4</th>\n",
       "      <td>2.2</td>\n",
       "      <td>39891</td>\n",
       "      <td>27</td>\n",
       "      <td>1</td>\n",
       "      <td>middle</td>\n",
       "    </tr>\n",
       "  </tbody>\n",
       "</table>\n",
       "</div>"
      ],
      "text/plain": [
       "   YearsExperience  Salary  age  company_change    type\n",
       "0              1.1   39343   21               1  junior\n",
       "1              1.3   46205   31               0  middle\n",
       "2              1.5   37731   29               1  middle\n",
       "3              2.0   43525   30               1  middle\n",
       "4              2.2   39891   27               1  middle"
      ]
     },
     "execution_count": 2,
     "metadata": {},
     "output_type": "execute_result"
    }
   ],
   "source": [
    "dataset=pd.read_csv(\"salary.csv\")\n",
    "dataset.head()"
   ]
  },
  {
   "cell_type": "code",
   "execution_count": 3,
   "metadata": {
    "colab": {
     "base_uri": "https://localhost:8080/"
    },
    "id": "S1_BSfUiEInE",
    "outputId": "78257e4f-6dde-4dc2-a2bd-ad64deee2118"
   },
   "outputs": [
    {
     "data": {
      "text/plain": [
       "YearsExperience    0\n",
       "Salary             0\n",
       "age                0\n",
       "company_change     0\n",
       "type               0\n",
       "dtype: int64"
      ]
     },
     "execution_count": 3,
     "metadata": {},
     "output_type": "execute_result"
    }
   ],
   "source": [
    "dataset.isnull().sum()"
   ]
  },
  {
   "cell_type": "code",
   "execution_count": 4,
   "metadata": {
    "colab": {
     "base_uri": "https://localhost:8080/",
     "height": 175
    },
    "id": "tVvFSDkRGgjT",
    "outputId": "da933faa-db87-450c-cccd-b1d186e22fad"
   },
   "outputs": [
    {
     "data": {
      "text/html": [
       "<div>\n",
       "<style scoped>\n",
       "    .dataframe tbody tr th:only-of-type {\n",
       "        vertical-align: middle;\n",
       "    }\n",
       "\n",
       "    .dataframe tbody tr th {\n",
       "        vertical-align: top;\n",
       "    }\n",
       "\n",
       "    .dataframe thead th {\n",
       "        text-align: right;\n",
       "    }\n",
       "</style>\n",
       "<table border=\"1\" class=\"dataframe\">\n",
       "  <thead>\n",
       "    <tr style=\"text-align: right;\">\n",
       "      <th></th>\n",
       "      <th>count</th>\n",
       "      <th>mean</th>\n",
       "      <th>std</th>\n",
       "      <th>min</th>\n",
       "      <th>25%</th>\n",
       "      <th>50%</th>\n",
       "      <th>75%</th>\n",
       "      <th>max</th>\n",
       "    </tr>\n",
       "  </thead>\n",
       "  <tbody>\n",
       "    <tr>\n",
       "      <th>YearsExperience</th>\n",
       "      <td>30.0</td>\n",
       "      <td>5.313333</td>\n",
       "      <td>2.837888</td>\n",
       "      <td>1.1</td>\n",
       "      <td>3.20</td>\n",
       "      <td>4.7</td>\n",
       "      <td>7.70</td>\n",
       "      <td>10.5</td>\n",
       "    </tr>\n",
       "    <tr>\n",
       "      <th>Salary</th>\n",
       "      <td>30.0</td>\n",
       "      <td>76003.000000</td>\n",
       "      <td>27414.429785</td>\n",
       "      <td>37731.0</td>\n",
       "      <td>56720.75</td>\n",
       "      <td>65237.0</td>\n",
       "      <td>100544.75</td>\n",
       "      <td>122391.0</td>\n",
       "    </tr>\n",
       "    <tr>\n",
       "      <th>age</th>\n",
       "      <td>30.0</td>\n",
       "      <td>34.266667</td>\n",
       "      <td>7.031620</td>\n",
       "      <td>21.0</td>\n",
       "      <td>29.00</td>\n",
       "      <td>34.0</td>\n",
       "      <td>37.75</td>\n",
       "      <td>56.0</td>\n",
       "    </tr>\n",
       "    <tr>\n",
       "      <th>company_change</th>\n",
       "      <td>30.0</td>\n",
       "      <td>0.400000</td>\n",
       "      <td>0.498273</td>\n",
       "      <td>0.0</td>\n",
       "      <td>0.00</td>\n",
       "      <td>0.0</td>\n",
       "      <td>1.00</td>\n",
       "      <td>1.0</td>\n",
       "    </tr>\n",
       "  </tbody>\n",
       "</table>\n",
       "</div>"
      ],
      "text/plain": [
       "                 count          mean           std      min       25%  \\\n",
       "YearsExperience   30.0      5.313333      2.837888      1.1      3.20   \n",
       "Salary            30.0  76003.000000  27414.429785  37731.0  56720.75   \n",
       "age               30.0     34.266667      7.031620     21.0     29.00   \n",
       "company_change    30.0      0.400000      0.498273      0.0      0.00   \n",
       "\n",
       "                     50%        75%       max  \n",
       "YearsExperience      4.7       7.70      10.5  \n",
       "Salary           65237.0  100544.75  122391.0  \n",
       "age                 34.0      37.75      56.0  \n",
       "company_change       0.0       1.00       1.0  "
      ]
     },
     "execution_count": 4,
     "metadata": {},
     "output_type": "execute_result"
    }
   ],
   "source": [
    "dataset.describe().transpose()"
   ]
  },
  {
   "cell_type": "code",
   "execution_count": 5,
   "metadata": {
    "id": "j1rPHr3XGi54"
   },
   "outputs": [],
   "source": [
    "x=np.array(dataset['YearsExperience'])\n",
    "y=np.array(dataset['Salary'])"
   ]
  },
  {
   "cell_type": "code",
   "execution_count": 12,
   "metadata": {
    "id": "pB-A4RcaGlin"
   },
   "outputs": [],
   "source": [
    "from sklearn.model_selection import train_test_split\n",
    "x_train,x_test,y_train,y_test=train_test_split(x,y,random_state=6)"
   ]
  },
  {
   "cell_type": "code",
   "execution_count": 13,
   "metadata": {
    "colab": {
     "base_uri": "https://localhost:8080/"
    },
    "id": "0I1VAvMVG7Ti",
    "outputId": "089ef814-261c-4320-954a-74a080cae7b6"
   },
   "outputs": [
    {
     "data": {
      "text/html": [
       "<style>#sk-container-id-1 {color: black;background-color: white;}#sk-container-id-1 pre{padding: 0;}#sk-container-id-1 div.sk-toggleable {background-color: white;}#sk-container-id-1 label.sk-toggleable__label {cursor: pointer;display: block;width: 100%;margin-bottom: 0;padding: 0.3em;box-sizing: border-box;text-align: center;}#sk-container-id-1 label.sk-toggleable__label-arrow:before {content: \"▸\";float: left;margin-right: 0.25em;color: #696969;}#sk-container-id-1 label.sk-toggleable__label-arrow:hover:before {color: black;}#sk-container-id-1 div.sk-estimator:hover label.sk-toggleable__label-arrow:before {color: black;}#sk-container-id-1 div.sk-toggleable__content {max-height: 0;max-width: 0;overflow: hidden;text-align: left;background-color: #f0f8ff;}#sk-container-id-1 div.sk-toggleable__content pre {margin: 0.2em;color: black;border-radius: 0.25em;background-color: #f0f8ff;}#sk-container-id-1 input.sk-toggleable__control:checked~div.sk-toggleable__content {max-height: 200px;max-width: 100%;overflow: auto;}#sk-container-id-1 input.sk-toggleable__control:checked~label.sk-toggleable__label-arrow:before {content: \"▾\";}#sk-container-id-1 div.sk-estimator input.sk-toggleable__control:checked~label.sk-toggleable__label {background-color: #d4ebff;}#sk-container-id-1 div.sk-label input.sk-toggleable__control:checked~label.sk-toggleable__label {background-color: #d4ebff;}#sk-container-id-1 input.sk-hidden--visually {border: 0;clip: rect(1px 1px 1px 1px);clip: rect(1px, 1px, 1px, 1px);height: 1px;margin: -1px;overflow: hidden;padding: 0;position: absolute;width: 1px;}#sk-container-id-1 div.sk-estimator {font-family: monospace;background-color: #f0f8ff;border: 1px dotted black;border-radius: 0.25em;box-sizing: border-box;margin-bottom: 0.5em;}#sk-container-id-1 div.sk-estimator:hover {background-color: #d4ebff;}#sk-container-id-1 div.sk-parallel-item::after {content: \"\";width: 100%;border-bottom: 1px solid gray;flex-grow: 1;}#sk-container-id-1 div.sk-label:hover label.sk-toggleable__label {background-color: #d4ebff;}#sk-container-id-1 div.sk-serial::before {content: \"\";position: absolute;border-left: 1px solid gray;box-sizing: border-box;top: 0;bottom: 0;left: 50%;z-index: 0;}#sk-container-id-1 div.sk-serial {display: flex;flex-direction: column;align-items: center;background-color: white;padding-right: 0.2em;padding-left: 0.2em;position: relative;}#sk-container-id-1 div.sk-item {position: relative;z-index: 1;}#sk-container-id-1 div.sk-parallel {display: flex;align-items: stretch;justify-content: center;background-color: white;position: relative;}#sk-container-id-1 div.sk-item::before, #sk-container-id-1 div.sk-parallel-item::before {content: \"\";position: absolute;border-left: 1px solid gray;box-sizing: border-box;top: 0;bottom: 0;left: 50%;z-index: -1;}#sk-container-id-1 div.sk-parallel-item {display: flex;flex-direction: column;z-index: 1;position: relative;background-color: white;}#sk-container-id-1 div.sk-parallel-item:first-child::after {align-self: flex-end;width: 50%;}#sk-container-id-1 div.sk-parallel-item:last-child::after {align-self: flex-start;width: 50%;}#sk-container-id-1 div.sk-parallel-item:only-child::after {width: 0;}#sk-container-id-1 div.sk-dashed-wrapped {border: 1px dashed gray;margin: 0 0.4em 0.5em 0.4em;box-sizing: border-box;padding-bottom: 0.4em;background-color: white;}#sk-container-id-1 div.sk-label label {font-family: monospace;font-weight: bold;display: inline-block;line-height: 1.2em;}#sk-container-id-1 div.sk-label-container {text-align: center;}#sk-container-id-1 div.sk-container {/* jupyter's `normalize.less` sets `[hidden] { display: none; }` but bootstrap.min.css set `[hidden] { display: none !important; }` so we also need the `!important` here to be able to override the default hidden behavior on the sphinx rendered scikit-learn.org. See: https://github.com/scikit-learn/scikit-learn/issues/21755 */display: inline-block !important;position: relative;}#sk-container-id-1 div.sk-text-repr-fallback {display: none;}</style><div id=\"sk-container-id-1\" class=\"sk-top-container\"><div class=\"sk-text-repr-fallback\"><pre>SGDRegressor(alpha=0.01, eta0=0.1, max_iter=6000, penalty=None)</pre><b>In a Jupyter environment, please rerun this cell to show the HTML representation or trust the notebook. <br />On GitHub, the HTML representation is unable to render, please try loading this page with nbviewer.org.</b></div><div class=\"sk-container\" hidden><div class=\"sk-item\"><div class=\"sk-estimator sk-toggleable\"><input class=\"sk-toggleable__control sk-hidden--visually\" id=\"sk-estimator-id-1\" type=\"checkbox\" checked><label for=\"sk-estimator-id-1\" class=\"sk-toggleable__label sk-toggleable__label-arrow\">SGDRegressor</label><div class=\"sk-toggleable__content\"><pre>SGDRegressor(alpha=0.01, eta0=0.1, max_iter=6000, penalty=None)</pre></div></div></div></div></div>"
      ],
      "text/plain": [
       "SGDRegressor(alpha=0.01, eta0=0.1, max_iter=6000, penalty=None)"
      ]
     },
     "execution_count": 13,
     "metadata": {},
     "output_type": "execute_result"
    }
   ],
   "source": [
    "from sklearn.linear_model import SGDRegressor\n",
    "sgd=SGDRegressor(max_iter=6000,penalty=None,eta0=0.1,alpha=0.01)\n",
    "x_train=x_train.reshape(-1,1)\n",
    "sgd.fit(x_train,y_train)"
   ]
  },
  {
   "cell_type": "code",
   "execution_count": 14,
   "metadata": {
    "id": "0-OzUCl4G8_G"
   },
   "outputs": [],
   "source": [
    "x_test=x_test.reshape(-1,1)\n",
    "y_pred=sgd.predict(x_test)"
   ]
  },
  {
   "cell_type": "code",
   "execution_count": 15,
   "metadata": {
    "id": "b3QM6etnzqg5"
   },
   "outputs": [],
   "source": [
    "from sklearn.metrics import mean_squared_error,r2_score,mean_absolute_error\n",
    "from sklearn.metrics import explained_variance_score"
   ]
  },
  {
   "cell_type": "code",
   "execution_count": 16,
   "metadata": {
    "colab": {
     "base_uri": "https://localhost:8080/"
    },
    "id": "Uwhj3o3JHJwM",
    "outputId": "a9ab54b3-396d-43f2-d46b-a3dfb968fdb2"
   },
   "outputs": [
    {
     "name": "stdout",
     "output_type": "stream",
     "text": [
      "88636404.0900321\n",
      "9414.690865346143\n",
      "8868.76733623483\n",
      "0.9320298094257532\n",
      "0.8869770697683735\n"
     ]
    }
   ],
   "source": [
    "sgd_error=mean_squared_error(y_test,y_pred)\n",
    "print(mean_squared_error(y_test,y_pred))\n",
    "print(np.sqrt(mean_squared_error(y_test,y_pred)))\n",
    "print(mean_absolute_error(y_test,y_pred))\n",
    "print(explained_variance_score(y_test,y_pred))\n",
    "print(r2_score(y_test,y_pred))"
   ]
  },
  {
   "cell_type": "markdown",
   "metadata": {
    "id": "iWoNpCbDCxE1"
   },
   "source": [
    "# Adam Optimization algorithm"
   ]
  },
  {
   "cell_type": "code",
   "execution_count": 17,
   "metadata": {
    "id": "pfc55YppzGlz"
   },
   "outputs": [],
   "source": [
    "import tensorflow as tf\n",
    "from tensorflow.keras.models import Sequential\n",
    "from tensorflow.keras.layers import Dense, Activation\n",
    "from tensorflow.keras.optimizers import Adam"
   ]
  },
  {
   "cell_type": "code",
   "execution_count": 18,
   "metadata": {
    "id": "5OqXCOZj1Lts"
   },
   "outputs": [],
   "source": [
    "from sklearn.model_selection import train_test_split\n",
    "x_train,x_test,y_train,y_test=train_test_split(x,y,random_state=6)"
   ]
  },
  {
   "cell_type": "code",
   "execution_count": 36,
   "metadata": {},
   "outputs": [],
   "source": [
    "model = Sequential()\n",
    "#model.add(Dense(64,activation='relu'))\n",
    "model.add(Dense(64,activation='sigmoid'))\n",
    "#model.add(Dense(32,activation='relu'))\n",
    "model.add(Dense(32,activation='tanh'))\n",
    "#model.add(Dense(16,activation='tanh'))\n",
    "model.add(Dense(16,activation='relu'))\n",
    "model.add(Dense(1))"
   ]
  },
  {
   "cell_type": "code",
   "execution_count": 46,
   "metadata": {
    "id": "JwxjvThCzGbH"
   },
   "outputs": [
    {
     "name": "stdout",
     "output_type": "stream",
     "text": [
      "Epoch 1/128\n",
      "1/1 [==============================] - 0s 437ms/step - loss: 6379729920.0000\n",
      "Epoch 2/128\n",
      "1/1 [==============================] - 0s 4ms/step - loss: 6379718144.0000\n",
      "Epoch 3/128\n",
      "1/1 [==============================] - 0s 11ms/step - loss: 6379704832.0000\n",
      "Epoch 4/128\n",
      "1/1 [==============================] - 0s 8ms/step - loss: 6379692032.0000\n",
      "Epoch 5/128\n",
      "1/1 [==============================] - 0s 7ms/step - loss: 6379679232.0000\n",
      "Epoch 6/128\n",
      "1/1 [==============================] - 0s 8ms/step - loss: 6379665920.0000\n",
      "Epoch 7/128\n",
      "1/1 [==============================] - 0s 15ms/step - loss: 6379652608.0000\n",
      "Epoch 8/128\n",
      "1/1 [==============================] - 0s 5ms/step - loss: 6379640832.0000\n",
      "Epoch 9/128\n",
      "1/1 [==============================] - 0s 15ms/step - loss: 6379627008.0000\n",
      "Epoch 10/128\n",
      "1/1 [==============================] - 0s 14ms/step - loss: 6379614720.0000\n",
      "Epoch 11/128\n",
      "1/1 [==============================] - 0s 5ms/step - loss: 6379601408.0000\n",
      "Epoch 12/128\n",
      "1/1 [==============================] - 0s 13ms/step - loss: 6379588608.0000\n",
      "Epoch 13/128\n",
      "1/1 [==============================] - 0s 7ms/step - loss: 6379575808.0000\n",
      "Epoch 14/128\n",
      "1/1 [==============================] - 0s 12ms/step - loss: 6379562496.0000\n",
      "Epoch 15/128\n",
      "1/1 [==============================] - 0s 6ms/step - loss: 6379550720.0000\n",
      "Epoch 16/128\n",
      "1/1 [==============================] - 0s 7ms/step - loss: 6379537920.0000\n",
      "Epoch 17/128\n",
      "1/1 [==============================] - 0s 7ms/step - loss: 6379524608.0000\n",
      "Epoch 18/128\n",
      "1/1 [==============================] - 0s 13ms/step - loss: 6379511808.0000\n",
      "Epoch 19/128\n",
      "1/1 [==============================] - 0s 4ms/step - loss: 6379500032.0000\n",
      "Epoch 20/128\n",
      "1/1 [==============================] - 0s 10ms/step - loss: 6379487232.0000\n",
      "Epoch 21/128\n",
      "1/1 [==============================] - 0s 8ms/step - loss: 6379474432.0000\n",
      "Epoch 22/128\n",
      "1/1 [==============================] - 0s 10ms/step - loss: 6379462144.0000\n",
      "Epoch 23/128\n",
      "1/1 [==============================] - 0s 6ms/step - loss: 6379449344.0000\n",
      "Epoch 24/128\n",
      "1/1 [==============================] - 0s 10ms/step - loss: 6379436544.0000\n",
      "Epoch 25/128\n",
      "1/1 [==============================] - 0s 12ms/step - loss: 6379421696.0000\n",
      "Epoch 26/128\n",
      "1/1 [==============================] - 0s 7ms/step - loss: 6379406848.0000\n",
      "Epoch 27/128\n",
      "1/1 [==============================] - 0s 13ms/step - loss: 6379389440.0000\n",
      "Epoch 28/128\n",
      "1/1 [==============================] - 0s 4ms/step - loss: 6379370496.0000\n",
      "Epoch 29/128\n",
      "1/1 [==============================] - 0s 13ms/step - loss: 6379349504.0000\n",
      "Epoch 30/128\n",
      "1/1 [==============================] - 0s 7ms/step - loss: 6379328000.0000\n",
      "Epoch 31/128\n",
      "1/1 [==============================] - 0s 6ms/step - loss: 6379304960.0000\n",
      "Epoch 32/128\n",
      "1/1 [==============================] - 0s 7ms/step - loss: 6379280384.0000\n",
      "Epoch 33/128\n",
      "1/1 [==============================] - 0s 6ms/step - loss: 6379254784.0000\n",
      "Epoch 34/128\n",
      "1/1 [==============================] - 0s 13ms/step - loss: 6379228672.0000\n",
      "Epoch 35/128\n",
      "1/1 [==============================] - 0s 6ms/step - loss: 6379202560.0000\n",
      "Epoch 36/128\n",
      "1/1 [==============================] - 0s 7ms/step - loss: 6379175936.0000\n",
      "Epoch 37/128\n",
      "1/1 [==============================] - 0s 14ms/step - loss: 6379149824.0000\n",
      "Epoch 38/128\n",
      "1/1 [==============================] - 0s 5ms/step - loss: 6379123712.0000\n",
      "Epoch 39/128\n",
      "1/1 [==============================] - 0s 7ms/step - loss: 6379097088.0000\n",
      "Epoch 40/128\n",
      "1/1 [==============================] - 0s 15ms/step - loss: 6379071488.0000\n",
      "Epoch 41/128\n",
      "1/1 [==============================] - 0s 6ms/step - loss: 6379046400.0000\n",
      "Epoch 42/128\n",
      "1/1 [==============================] - 0s 5ms/step - loss: 6379020288.0000\n",
      "Epoch 43/128\n",
      "1/1 [==============================] - 0s 12ms/step - loss: 6378995712.0000\n",
      "Epoch 44/128\n",
      "1/1 [==============================] - 0s 5ms/step - loss: 6378971136.0000\n",
      "Epoch 45/128\n",
      "1/1 [==============================] - 0s 6ms/step - loss: 6378946048.0000\n",
      "Epoch 46/128\n",
      "1/1 [==============================] - 0s 4ms/step - loss: 6378920448.0000\n",
      "Epoch 47/128\n",
      "1/1 [==============================] - 0s 5ms/step - loss: 6378895360.0000\n",
      "Epoch 48/128\n",
      "1/1 [==============================] - 0s 11ms/step - loss: 6378870784.0000\n",
      "Epoch 49/128\n",
      "1/1 [==============================] - 0s 5ms/step - loss: 6378845184.0000\n",
      "Epoch 50/128\n",
      "1/1 [==============================] - 0s 7ms/step - loss: 6378819072.0000\n",
      "Epoch 51/128\n",
      "1/1 [==============================] - 0s 12ms/step - loss: 6378794496.0000\n",
      "Epoch 52/128\n",
      "1/1 [==============================] - 0s 5ms/step - loss: 6378769920.0000\n",
      "Epoch 53/128\n",
      "1/1 [==============================] - 0s 10ms/step - loss: 6378745344.0000\n",
      "Epoch 54/128\n",
      "1/1 [==============================] - 0s 5ms/step - loss: 6378720256.0000\n",
      "Epoch 55/128\n",
      "1/1 [==============================] - 0s 5ms/step - loss: 6378695680.0000\n",
      "Epoch 56/128\n",
      "1/1 [==============================] - 0s 6ms/step - loss: 6378670080.0000\n",
      "Epoch 57/128\n",
      "1/1 [==============================] - 0s 12ms/step - loss: 6378645504.0000\n",
      "Epoch 58/128\n",
      "1/1 [==============================] - 0s 5ms/step - loss: 6378621952.0000\n",
      "Epoch 59/128\n",
      "1/1 [==============================] - 0s 5ms/step - loss: 6378597376.0000\n",
      "Epoch 60/128\n",
      "1/1 [==============================] - 0s 4ms/step - loss: 6378571776.0000\n",
      "Epoch 61/128\n",
      "1/1 [==============================] - 0s 16ms/step - loss: 6378546688.0000\n",
      "Epoch 62/128\n",
      "1/1 [==============================] - 0s 9ms/step - loss: 6378522112.0000\n",
      "Epoch 63/128\n",
      "1/1 [==============================] - 0s 4ms/step - loss: 6378497536.0000\n",
      "Epoch 64/128\n",
      "1/1 [==============================] - 0s 4ms/step - loss: 6378472960.0000\n",
      "Epoch 65/128\n",
      "1/1 [==============================] - 0s 12ms/step - loss: 6378447360.0000\n",
      "Epoch 66/128\n",
      "1/1 [==============================] - 0s 6ms/step - loss: 6378422272.0000\n",
      "Epoch 67/128\n",
      "1/1 [==============================] - 0s 9ms/step - loss: 6378397184.0000\n",
      "Epoch 68/128\n",
      "1/1 [==============================] - 0s 18ms/step - loss: 6378372608.0000\n",
      "Epoch 69/128\n",
      "1/1 [==============================] - 0s 14ms/step - loss: 6378347008.0000\n",
      "Epoch 70/128\n",
      "1/1 [==============================] - 0s 10ms/step - loss: 6378321920.0000\n",
      "Epoch 71/128\n",
      "1/1 [==============================] - 0s 17ms/step - loss: 6378296320.0000\n",
      "Epoch 72/128\n",
      "1/1 [==============================] - 0s 13ms/step - loss: 6378270208.0000\n",
      "Epoch 73/128\n",
      "1/1 [==============================] - 0s 12ms/step - loss: 6378245120.0000\n",
      "Epoch 74/128\n",
      "1/1 [==============================] - 0s 12ms/step - loss: 6378219008.0000\n",
      "Epoch 75/128\n",
      "1/1 [==============================] - 0s 12ms/step - loss: 6378192896.0000\n",
      "Epoch 76/128\n",
      "1/1 [==============================] - 0s 5ms/step - loss: 6378167808.0000\n",
      "Epoch 77/128\n",
      "1/1 [==============================] - 0s 7ms/step - loss: 6378142208.0000\n",
      "Epoch 78/128\n",
      "1/1 [==============================] - 0s 10ms/step - loss: 6378115584.0000\n",
      "Epoch 79/128\n",
      "1/1 [==============================] - 0s 10ms/step - loss: 6378089472.0000\n",
      "Epoch 80/128\n",
      "1/1 [==============================] - 0s 4ms/step - loss: 6378063360.0000\n",
      "Epoch 81/128\n",
      "1/1 [==============================] - 0s 10ms/step - loss: 6378037248.0000\n",
      "Epoch 82/128\n",
      "1/1 [==============================] - 0s 7ms/step - loss: 6378011136.0000\n",
      "Epoch 83/128\n",
      "1/1 [==============================] - 0s 4ms/step - loss: 6377984512.0000\n",
      "Epoch 84/128\n",
      "1/1 [==============================] - 0s 5ms/step - loss: 6377958400.0000\n",
      "Epoch 85/128\n",
      "1/1 [==============================] - 0s 4ms/step - loss: 6377930752.0000\n",
      "Epoch 86/128\n",
      "1/1 [==============================] - 0s 7ms/step - loss: 6377904128.0000\n",
      "Epoch 87/128\n",
      "1/1 [==============================] - 0s 4ms/step - loss: 6377878016.0000\n",
      "Epoch 88/128\n",
      "1/1 [==============================] - 0s 9ms/step - loss: 6377850880.0000\n",
      "Epoch 89/128\n",
      "1/1 [==============================] - 0s 5ms/step - loss: 6377824256.0000\n",
      "Epoch 90/128\n",
      "1/1 [==============================] - 0s 5ms/step - loss: 6377796608.0000\n",
      "Epoch 91/128\n",
      "1/1 [==============================] - 0s 4ms/step - loss: 6377768960.0000\n",
      "Epoch 92/128\n",
      "1/1 [==============================] - 0s 5ms/step - loss: 6377742336.0000\n",
      "Epoch 93/128\n"
     ]
    },
    {
     "name": "stdout",
     "output_type": "stream",
     "text": [
      "1/1 [==============================] - 0s 13ms/step - loss: 6377714176.0000\n",
      "Epoch 94/128\n",
      "1/1 [==============================] - 0s 5ms/step - loss: 6377686528.0000\n",
      "Epoch 95/128\n",
      "1/1 [==============================] - 0s 7ms/step - loss: 6377658880.0000\n",
      "Epoch 96/128\n",
      "1/1 [==============================] - 0s 5ms/step - loss: 6377630720.0000\n",
      "Epoch 97/128\n",
      "1/1 [==============================] - 0s 6ms/step - loss: 6377602560.0000\n",
      "Epoch 98/128\n",
      "1/1 [==============================] - 0s 6ms/step - loss: 6377573888.0000\n",
      "Epoch 99/128\n",
      "1/1 [==============================] - 0s 4ms/step - loss: 6377545728.0000\n",
      "Epoch 100/128\n",
      "1/1 [==============================] - 0s 4ms/step - loss: 6377516544.0000\n",
      "Epoch 101/128\n",
      "1/1 [==============================] - 0s 11ms/step - loss: 6377488384.0000\n",
      "Epoch 102/128\n",
      "1/1 [==============================] - 0s 11ms/step - loss: 6377459200.0000\n",
      "Epoch 103/128\n",
      "1/1 [==============================] - 0s 7ms/step - loss: 6377429504.0000\n",
      "Epoch 104/128\n",
      "1/1 [==============================] - 0s 7ms/step - loss: 6377400320.0000\n",
      "Epoch 105/128\n",
      "1/1 [==============================] - 0s 7ms/step - loss: 6377370624.0000\n",
      "Epoch 106/128\n",
      "1/1 [==============================] - 0s 8ms/step - loss: 6377341440.0000\n",
      "Epoch 107/128\n",
      "1/1 [==============================] - 0s 7ms/step - loss: 6377311232.0000\n",
      "Epoch 108/128\n",
      "1/1 [==============================] - 0s 6ms/step - loss: 6377281536.0000\n",
      "Epoch 109/128\n",
      "1/1 [==============================] - 0s 5ms/step - loss: 6377250816.0000\n",
      "Epoch 110/128\n",
      "1/1 [==============================] - 0s 7ms/step - loss: 6377219584.0000\n",
      "Epoch 111/128\n",
      "1/1 [==============================] - 0s 6ms/step - loss: 6377188864.0000\n",
      "Epoch 112/128\n",
      "1/1 [==============================] - 0s 7ms/step - loss: 6377157632.0000\n",
      "Epoch 113/128\n",
      "1/1 [==============================] - 0s 6ms/step - loss: 6377126400.0000\n",
      "Epoch 114/128\n",
      "1/1 [==============================] - 0s 7ms/step - loss: 6377094656.0000\n",
      "Epoch 115/128\n",
      "1/1 [==============================] - 0s 4ms/step - loss: 6377062912.0000\n",
      "Epoch 116/128\n",
      "1/1 [==============================] - 0s 6ms/step - loss: 6377031168.0000\n",
      "Epoch 117/128\n",
      "1/1 [==============================] - 0s 4ms/step - loss: 6376998912.0000\n",
      "Epoch 118/128\n",
      "1/1 [==============================] - 0s 8ms/step - loss: 6376967168.0000\n",
      "Epoch 119/128\n",
      "1/1 [==============================] - 0s 7ms/step - loss: 6376933376.0000\n",
      "Epoch 120/128\n",
      "1/1 [==============================] - 0s 7ms/step - loss: 6376901632.0000\n",
      "Epoch 121/128\n",
      "1/1 [==============================] - 0s 6ms/step - loss: 6376867840.0000\n",
      "Epoch 122/128\n",
      "1/1 [==============================] - 0s 8ms/step - loss: 6376834560.0000\n",
      "Epoch 123/128\n",
      "1/1 [==============================] - 0s 7ms/step - loss: 6376800768.0000\n",
      "Epoch 124/128\n",
      "1/1 [==============================] - 0s 5ms/step - loss: 6376767488.0000\n",
      "Epoch 125/128\n",
      "1/1 [==============================] - 0s 7ms/step - loss: 6376733184.0000\n",
      "Epoch 126/128\n",
      "1/1 [==============================] - 0s 5ms/step - loss: 6376698880.0000\n",
      "Epoch 127/128\n",
      "1/1 [==============================] - 0s 6ms/step - loss: 6376664576.0000\n",
      "Epoch 128/128\n",
      "1/1 [==============================] - 0s 4ms/step - loss: 6376630272.0000\n"
     ]
    },
    {
     "data": {
      "text/plain": [
       "<keras.callbacks.History at 0x1e1540d4280>"
      ]
     },
     "execution_count": 46,
     "metadata": {},
     "output_type": "execute_result"
    }
   ],
   "source": [
    "model.compile(optimizer='adam',\n",
    "        loss=tf.keras.losses.MeanSquaredError())\n",
    "\n",
    "model.fit(x_train,y_train,epochs = 128)"
   ]
  },
  {
   "cell_type": "code",
   "execution_count": 47,
   "metadata": {
    "colab": {
     "base_uri": "https://localhost:8080/",
     "height": 763
    },
    "id": "f0WuQfBEz6-o",
    "outputId": "e8f3ecb1-3dbf-4375-fb64-e6754533e476"
   },
   "outputs": [
    {
     "name": "stdout",
     "output_type": "stream",
     "text": [
      "Model: \"sequential_5\"\n",
      "_________________________________________________________________\n",
      " Layer (type)                Output Shape              Param #   \n",
      "=================================================================\n",
      " dense_16 (Dense)            (None, 64)                128       \n",
      "                                                                 \n",
      " dense_17 (Dense)            (None, 32)                2080      \n",
      "                                                                 \n",
      " dense_18 (Dense)            (None, 16)                528       \n",
      "                                                                 \n",
      " dense_19 (Dense)            (None, 1)                 17        \n",
      "                                                                 \n",
      "=================================================================\n",
      "Total params: 2,753\n",
      "Trainable params: 2,753\n",
      "Non-trainable params: 0\n",
      "_________________________________________________________________\n"
     ]
    }
   ],
   "source": [
    "model.summary()"
   ]
  },
  {
   "cell_type": "code",
   "execution_count": 48,
   "metadata": {
    "colab": {
     "base_uri": "https://localhost:8080/"
    },
    "id": "VlC-2DzL0eWW",
    "outputId": "a6c2985b-12a5-4682-ebee-afbc66179da3"
   },
   "outputs": [
    {
     "name": "stdout",
     "output_type": "stream",
     "text": [
      "1/1 [==============================] - 0s 67ms/step\n"
     ]
    }
   ],
   "source": [
    "x_test=x_test.reshape(-1,1)\n",
    "y_pred=model.predict(x_test)"
   ]
  },
  {
   "cell_type": "code",
   "execution_count": 49,
   "metadata": {
    "id": "0--pSPD40qUG"
   },
   "outputs": [],
   "source": [
    "from sklearn.metrics import mean_squared_error,r2_score,mean_absolute_error\n",
    "from sklearn.metrics import explained_variance_score"
   ]
  },
  {
   "cell_type": "code",
   "execution_count": 50,
   "metadata": {
    "colab": {
     "base_uri": "https://localhost:8080/"
    },
    "id": "WYtD3q4O0vWD",
    "outputId": "5c1b6353-ee5b-492e-fc46-3ed71cf32f85"
   },
   "outputs": [
    {
     "name": "stdout",
     "output_type": "stream",
     "text": [
      "6838313972.7994175\n",
      "82694.09877856713\n",
      "77807.9784014225\n",
      "1.7189443780596392e-06\n",
      "-7.719738700868421\n"
     ]
    }
   ],
   "source": [
    "adam_error=mean_squared_error(y_test,y_pred)\n",
    "print(mean_squared_error(y_test,y_pred))\n",
    "print(np.sqrt(mean_squared_error(y_test,y_pred)))\n",
    "print(mean_absolute_error(y_test,y_pred))\n",
    "print(explained_variance_score(y_test,y_pred))\n",
    "print(r2_score(y_test,y_pred))"
   ]
  },
  {
   "cell_type": "code",
   "execution_count": 51,
   "metadata": {
    "id": "iZhvh9Zi0wA2"
   },
   "outputs": [
    {
     "name": "stdout",
     "output_type": "stream",
     "text": [
      "SGD_Error:  88636404.0900321\n",
      "Adam_Error:  6838313972.7994175\n"
     ]
    }
   ],
   "source": [
    "print(\"SGD_Error: \",sgd_error)\n",
    "print(\"Adam_Error: \",adam_error)"
   ]
  },
  {
   "cell_type": "code",
   "execution_count": null,
   "metadata": {},
   "outputs": [],
   "source": []
  }
 ],
 "metadata": {
  "colab": {
   "provenance": []
  },
  "kernelspec": {
   "display_name": "Python 3 (ipykernel)",
   "language": "python",
   "name": "python3"
  },
  "language_info": {
   "codemirror_mode": {
    "name": "ipython",
    "version": 3
   },
   "file_extension": ".py",
   "mimetype": "text/x-python",
   "name": "python",
   "nbconvert_exporter": "python",
   "pygments_lexer": "ipython3",
   "version": "3.8.0"
  }
 },
 "nbformat": 4,
 "nbformat_minor": 1
}
