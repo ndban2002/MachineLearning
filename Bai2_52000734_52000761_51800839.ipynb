{
  "nbformat": 4,
  "nbformat_minor": 0,
  "metadata": {
    "colab": {
      "provenance": [],
      "collapsed_sections": []
    },
    "kernelspec": {
      "name": "python3",
      "display_name": "Python 3"
    },
    "language_info": {
      "name": "python"
    }
  },
  "cells": [
    {
      "cell_type": "markdown",
      "source": [
        "1.   52000734 - Nguyễn Dương Bình An\n",
        "2.   52000761 - Bùi Tuấn Hưng\n",
        "1.   51800839 - Lưu Trần Ngọc Anh\n",
        "\n",
        "\n",
        "\n",
        "\n"
      ],
      "metadata": {
        "id": "JcGs6TQLarLV"
      }
    },
    {
      "cell_type": "markdown",
      "source": [
        "#**Bài 2**"
      ],
      "metadata": {
        "id": "Pa2iK3IaXrA_"
      }
    },
    {
      "cell_type": "code",
      "execution_count": null,
      "metadata": {
        "id": "4mqQB04UwuC6"
      },
      "outputs": [],
      "source": [
        "import numpy as np \n",
        "import matplotlib.pyplot as plt\n",
        "import pandas as pd\n",
        "import seaborn as sn"
      ]
    },
    {
      "cell_type": "markdown",
      "source": [
        "#Truyền dữ liệu đầu vào"
      ],
      "metadata": {
        "id": "dz6zpmwiXl09"
      }
    },
    {
      "cell_type": "code",
      "source": [
        "filename = 'Real estate valuation data set.xlsx'\n",
        "xl = pd.ExcelFile(filename)\n",
        "sheet_names = xl.sheet_names\n",
        "df = xl.parse(sheet_names[0])\n",
        "df.head(5)"
      ],
      "metadata": {
        "colab": {
          "base_uri": "https://localhost:8080/",
          "height": 267
        },
        "id": "FniJcNaIy3Z_",
        "outputId": "f539f620-9371-41c9-8b42-e30793f187bf"
      },
      "execution_count": null,
      "outputs": [
        {
          "output_type": "execute_result",
          "data": {
            "text/plain": [
              "   No  X1 transaction date  X2 house age  \\\n",
              "0   1          2012.916667          32.0   \n",
              "1   2          2012.916667          19.5   \n",
              "2   3          2013.583333          13.3   \n",
              "3   4          2013.500000          13.3   \n",
              "4   5          2012.833333           5.0   \n",
              "\n",
              "   X3 distance to the nearest MRT station  X4 number of convenience stores  \\\n",
              "0                                84.87882                               10   \n",
              "1                               306.59470                                9   \n",
              "2                               561.98450                                5   \n",
              "3                               561.98450                                5   \n",
              "4                               390.56840                                5   \n",
              "\n",
              "   X5 latitude  X6 longitude  Y house price of unit area  \n",
              "0     24.98298     121.54024                        37.9  \n",
              "1     24.98034     121.53951                        42.2  \n",
              "2     24.98746     121.54391                        47.3  \n",
              "3     24.98746     121.54391                        54.8  \n",
              "4     24.97937     121.54245                        43.1  "
            ],
            "text/html": [
              "\n",
              "  <div id=\"df-e45918ad-6443-4b9e-a800-60a172c492b6\">\n",
              "    <div class=\"colab-df-container\">\n",
              "      <div>\n",
              "<style scoped>\n",
              "    .dataframe tbody tr th:only-of-type {\n",
              "        vertical-align: middle;\n",
              "    }\n",
              "\n",
              "    .dataframe tbody tr th {\n",
              "        vertical-align: top;\n",
              "    }\n",
              "\n",
              "    .dataframe thead th {\n",
              "        text-align: right;\n",
              "    }\n",
              "</style>\n",
              "<table border=\"1\" class=\"dataframe\">\n",
              "  <thead>\n",
              "    <tr style=\"text-align: right;\">\n",
              "      <th></th>\n",
              "      <th>No</th>\n",
              "      <th>X1 transaction date</th>\n",
              "      <th>X2 house age</th>\n",
              "      <th>X3 distance to the nearest MRT station</th>\n",
              "      <th>X4 number of convenience stores</th>\n",
              "      <th>X5 latitude</th>\n",
              "      <th>X6 longitude</th>\n",
              "      <th>Y house price of unit area</th>\n",
              "    </tr>\n",
              "  </thead>\n",
              "  <tbody>\n",
              "    <tr>\n",
              "      <th>0</th>\n",
              "      <td>1</td>\n",
              "      <td>2012.916667</td>\n",
              "      <td>32.0</td>\n",
              "      <td>84.87882</td>\n",
              "      <td>10</td>\n",
              "      <td>24.98298</td>\n",
              "      <td>121.54024</td>\n",
              "      <td>37.9</td>\n",
              "    </tr>\n",
              "    <tr>\n",
              "      <th>1</th>\n",
              "      <td>2</td>\n",
              "      <td>2012.916667</td>\n",
              "      <td>19.5</td>\n",
              "      <td>306.59470</td>\n",
              "      <td>9</td>\n",
              "      <td>24.98034</td>\n",
              "      <td>121.53951</td>\n",
              "      <td>42.2</td>\n",
              "    </tr>\n",
              "    <tr>\n",
              "      <th>2</th>\n",
              "      <td>3</td>\n",
              "      <td>2013.583333</td>\n",
              "      <td>13.3</td>\n",
              "      <td>561.98450</td>\n",
              "      <td>5</td>\n",
              "      <td>24.98746</td>\n",
              "      <td>121.54391</td>\n",
              "      <td>47.3</td>\n",
              "    </tr>\n",
              "    <tr>\n",
              "      <th>3</th>\n",
              "      <td>4</td>\n",
              "      <td>2013.500000</td>\n",
              "      <td>13.3</td>\n",
              "      <td>561.98450</td>\n",
              "      <td>5</td>\n",
              "      <td>24.98746</td>\n",
              "      <td>121.54391</td>\n",
              "      <td>54.8</td>\n",
              "    </tr>\n",
              "    <tr>\n",
              "      <th>4</th>\n",
              "      <td>5</td>\n",
              "      <td>2012.833333</td>\n",
              "      <td>5.0</td>\n",
              "      <td>390.56840</td>\n",
              "      <td>5</td>\n",
              "      <td>24.97937</td>\n",
              "      <td>121.54245</td>\n",
              "      <td>43.1</td>\n",
              "    </tr>\n",
              "  </tbody>\n",
              "</table>\n",
              "</div>\n",
              "      <button class=\"colab-df-convert\" onclick=\"convertToInteractive('df-e45918ad-6443-4b9e-a800-60a172c492b6')\"\n",
              "              title=\"Convert this dataframe to an interactive table.\"\n",
              "              style=\"display:none;\">\n",
              "        \n",
              "  <svg xmlns=\"http://www.w3.org/2000/svg\" height=\"24px\"viewBox=\"0 0 24 24\"\n",
              "       width=\"24px\">\n",
              "    <path d=\"M0 0h24v24H0V0z\" fill=\"none\"/>\n",
              "    <path d=\"M18.56 5.44l.94 2.06.94-2.06 2.06-.94-2.06-.94-.94-2.06-.94 2.06-2.06.94zm-11 1L8.5 8.5l.94-2.06 2.06-.94-2.06-.94L8.5 2.5l-.94 2.06-2.06.94zm10 10l.94 2.06.94-2.06 2.06-.94-2.06-.94-.94-2.06-.94 2.06-2.06.94z\"/><path d=\"M17.41 7.96l-1.37-1.37c-.4-.4-.92-.59-1.43-.59-.52 0-1.04.2-1.43.59L10.3 9.45l-7.72 7.72c-.78.78-.78 2.05 0 2.83L4 21.41c.39.39.9.59 1.41.59.51 0 1.02-.2 1.41-.59l7.78-7.78 2.81-2.81c.8-.78.8-2.07 0-2.86zM5.41 20L4 18.59l7.72-7.72 1.47 1.35L5.41 20z\"/>\n",
              "  </svg>\n",
              "      </button>\n",
              "      \n",
              "  <style>\n",
              "    .colab-df-container {\n",
              "      display:flex;\n",
              "      flex-wrap:wrap;\n",
              "      gap: 12px;\n",
              "    }\n",
              "\n",
              "    .colab-df-convert {\n",
              "      background-color: #E8F0FE;\n",
              "      border: none;\n",
              "      border-radius: 50%;\n",
              "      cursor: pointer;\n",
              "      display: none;\n",
              "      fill: #1967D2;\n",
              "      height: 32px;\n",
              "      padding: 0 0 0 0;\n",
              "      width: 32px;\n",
              "    }\n",
              "\n",
              "    .colab-df-convert:hover {\n",
              "      background-color: #E2EBFA;\n",
              "      box-shadow: 0px 1px 2px rgba(60, 64, 67, 0.3), 0px 1px 3px 1px rgba(60, 64, 67, 0.15);\n",
              "      fill: #174EA6;\n",
              "    }\n",
              "\n",
              "    [theme=dark] .colab-df-convert {\n",
              "      background-color: #3B4455;\n",
              "      fill: #D2E3FC;\n",
              "    }\n",
              "\n",
              "    [theme=dark] .colab-df-convert:hover {\n",
              "      background-color: #434B5C;\n",
              "      box-shadow: 0px 1px 3px 1px rgba(0, 0, 0, 0.15);\n",
              "      filter: drop-shadow(0px 1px 2px rgba(0, 0, 0, 0.3));\n",
              "      fill: #FFFFFF;\n",
              "    }\n",
              "  </style>\n",
              "\n",
              "      <script>\n",
              "        const buttonEl =\n",
              "          document.querySelector('#df-e45918ad-6443-4b9e-a800-60a172c492b6 button.colab-df-convert');\n",
              "        buttonEl.style.display =\n",
              "          google.colab.kernel.accessAllowed ? 'block' : 'none';\n",
              "\n",
              "        async function convertToInteractive(key) {\n",
              "          const element = document.querySelector('#df-e45918ad-6443-4b9e-a800-60a172c492b6');\n",
              "          const dataTable =\n",
              "            await google.colab.kernel.invokeFunction('convertToInteractive',\n",
              "                                                     [key], {});\n",
              "          if (!dataTable) return;\n",
              "\n",
              "          const docLinkHtml = 'Like what you see? Visit the ' +\n",
              "            '<a target=\"_blank\" href=https://colab.research.google.com/notebooks/data_table.ipynb>data table notebook</a>'\n",
              "            + ' to learn more about interactive tables.';\n",
              "          element.innerHTML = '';\n",
              "          dataTable['output_type'] = 'display_data';\n",
              "          await google.colab.output.renderOutput(dataTable, element);\n",
              "          const docLink = document.createElement('div');\n",
              "          docLink.innerHTML = docLinkHtml;\n",
              "          element.appendChild(docLink);\n",
              "        }\n",
              "      </script>\n",
              "    </div>\n",
              "  </div>\n",
              "  "
            ]
          },
          "metadata": {},
          "execution_count": 304
        }
      ]
    },
    {
      "cell_type": "markdown",
      "source": [
        "#Đồ thị minh họa Correlation Matrix"
      ],
      "metadata": {
        "id": "J5Ky94ttXwx5"
      }
    },
    {
      "cell_type": "code",
      "source": [
        "corrMatrix = df.corr()\n",
        "plt.figure(figsize = (10,10))\n",
        "sn.heatmap(corrMatrix, annot=True, cmap = plt.cm.Reds)\n",
        "plt.show()"
      ],
      "metadata": {
        "colab": {
          "base_uri": "https://localhost:8080/",
          "height": 779
        },
        "id": "sTGViUpsL0BN",
        "outputId": "0ae263be-cf11-4c25-a27d-82261c7f4a8f"
      },
      "execution_count": null,
      "outputs": [
        {
          "output_type": "display_data",
          "data": {
            "text/plain": [
              "<Figure size 720x720 with 2 Axes>"
            ],
            "image/png": "[encoded data removed]"
          },
          "metadata": {
            "needs_background": "light"
          }
        }
      ]
    },
    {
      "cell_type": "markdown",
      "source": [
        "#Khởi tạo hàm Feature Selection theo Pearson's Correlation"
      ],
      "metadata": {
        "id": "Ery2vg2IX-si"
      }
    },
    {
      "cell_type": "code",
      "source": [
        "from scipy.stats import pearsonr\n",
        "def pearson_correlation(X, y, threshold):\n",
        "    col_corr = set()\n",
        "    for i in X.columns:\n",
        "      corr, _ = pearsonr(X[i], y)\n",
        "      if abs(corr) > threshold:\n",
        "        col_corr.add(i)\n",
        "    return col_corr"
      ],
      "metadata": {
        "id": "sMmah9VfPExq"
      },
      "execution_count": null,
      "outputs": []
    },
    {
      "cell_type": "markdown",
      "source": [
        "#Sử dụng hàm với threshold = 0.5"
      ],
      "metadata": {
        "id": "62E1_LlUYWue"
      }
    },
    {
      "cell_type": "code",
      "source": [
        "X = df.drop('Y house price of unit area', axis = 1)\n",
        "y = df['Y house price of unit area']\n",
        "names = df.columns\n",
        "corrFeatures = pearson_correlation(X, y, 0.5)\n",
        "corrFeatures"
      ],
      "metadata": {
        "colab": {
          "base_uri": "https://localhost:8080/"
        },
        "id": "ncilXl9gPNSB",
        "outputId": "4693dccd-e81d-4981-b8a4-7641cae457a0"
      },
      "execution_count": null,
      "outputs": [
        {
          "output_type": "execute_result",
          "data": {
            "text/plain": [
              "{'X3 distance to the nearest MRT station',\n",
              " 'X4 number of convenience stores',\n",
              " 'X5 latitude',\n",
              " 'X6 longitude'}"
            ]
          },
          "metadata": {},
          "execution_count": 307
        }
      ]
    },
    {
      "cell_type": "code",
      "source": [
        "from sklearn.preprocessing import Normalizer\n",
        "scaler = Normalizer()\n",
        "df = pd.DataFrame(scaler.fit_transform(df.values), columns = names)\n",
        "X = df.drop('Y house price of unit area', axis = 1)\n",
        "y = df['Y house price of unit area']"
      ],
      "metadata": {
        "id": "UcNr93StkweZ"
      },
      "execution_count": null,
      "outputs": []
    },
    {
      "cell_type": "markdown",
      "source": [
        "#Chia dữ liệu để train và test"
      ],
      "metadata": {
        "id": "lPrShTxsYhJK"
      }
    },
    {
      "cell_type": "code",
      "source": [
        "from sklearn.model_selection  import train_test_split\n",
        "X_train,X_test,y_train,y_test = train_test_split(X, y, test_size = 0.25, random_state = 10)\n",
        "X_train"
      ],
      "metadata": {
        "id": "2k5XO4pAxuzM",
        "colab": {
          "base_uri": "https://localhost:8080/",
          "height": 424
        },
        "outputId": "193e8abc-a4fc-41b3-9abb-cf848928e42f"
      },
      "execution_count": null,
      "outputs": [
        {
          "output_type": "execute_result",
          "data": {
            "text/plain": [
              "           No  X1 transaction date  X2 house age  \\\n",
              "175  0.084638             0.968088      0.014523   \n",
              "10   0.005345             0.978200      0.016910   \n",
              "76   0.036467             0.953626      0.017002   \n",
              "172  0.085319             0.993043      0.003255   \n",
              "34   0.017257             0.992420      0.007593   \n",
              "..        ...                  ...           ...   \n",
              "369  0.123479             0.671679      0.006741   \n",
              "320  0.068770             0.431204      0.002892   \n",
              "15   0.007619             0.958905      0.017001   \n",
              "125  0.062046             0.991337      0.000542   \n",
              "265  0.121347             0.918240      0.007162   \n",
              "\n",
              "     X3 distance to the nearest MRT station  X4 number of convenience stores  \\\n",
              "175                                0.227068                         0.001443   \n",
              "10                                 0.196902                         0.000486   \n",
              "76                                 0.291925                         0.001421   \n",
              "172                                0.044610                         0.004439   \n",
              "34                                 0.101260                         0.003451   \n",
              "..                                      ...                              ...   \n",
              "369                                0.729234                         0.001001   \n",
              "320                                0.899224                         0.000000   \n",
              "15                                 0.275830                         0.000952   \n",
              "125                                0.095326                         0.002955   \n",
              "265                                0.372222                         0.001825   \n",
              "\n",
              "     X5 latitude  X6 longitude  \n",
              "175     0.012008      0.058447  \n",
              "10      0.012135      0.059056  \n",
              "76      0.011829      0.057560  \n",
              "172     0.012317      0.059942  \n",
              "34      0.012319      0.059929  \n",
              "..           ...           ...  \n",
              "369     0.008331      0.040552  \n",
              "320     0.005343      0.026031  \n",
              "15      0.011897      0.057883  \n",
              "125     0.012294      0.059850  \n",
              "265     0.011395      0.055443  \n",
              "\n",
              "[310 rows x 7 columns]"
            ],
            "text/html": [
              "\n",
              "  <div id=\"df-7467060f-4392-4d15-8f03-8f0d666bcc9e\">\n",
              "    <div class=\"colab-df-container\">\n",
              "      <div>\n",
              "<style scoped>\n",
              "    .dataframe tbody tr th:only-of-type {\n",
              "        vertical-align: middle;\n",
              "    }\n",
              "\n",
              "    .dataframe tbody tr th {\n",
              "        vertical-align: top;\n",
              "    }\n",
              "\n",
              "    .dataframe thead th {\n",
              "        text-align: right;\n",
              "    }\n",
              "</style>\n",
              "<table border=\"1\" class=\"dataframe\">\n",
              "  <thead>\n",
              "    <tr style=\"text-align: right;\">\n",
              "      <th></th>\n",
              "      <th>No</th>\n",
              "      <th>X1 transaction date</th>\n",
              "      <th>X2 house age</th>\n",
              "      <th>X3 distance to the nearest MRT station</th>\n",
              "      <th>X4 number of convenience stores</th>\n",
              "      <th>X5 latitude</th>\n",
              "      <th>X6 longitude</th>\n",
              "    </tr>\n",
              "  </thead>\n",
              "  <tbody>\n",
              "    <tr>\n",
              "      <th>175</th>\n",
              "      <td>0.084638</td>\n",
              "      <td>0.968088</td>\n",
              "      <td>0.014523</td>\n",
              "      <td>0.227068</td>\n",
              "      <td>0.001443</td>\n",
              "      <td>0.012008</td>\n",
              "      <td>0.058447</td>\n",
              "    </tr>\n",
              "    <tr>\n",
              "      <th>10</th>\n",
              "      <td>0.005345</td>\n",
              "      <td>0.978200</td>\n",
              "      <td>0.016910</td>\n",
              "      <td>0.196902</td>\n",
              "      <td>0.000486</td>\n",
              "      <td>0.012135</td>\n",
              "      <td>0.059056</td>\n",
              "    </tr>\n",
              "    <tr>\n",
              "      <th>76</th>\n",
              "      <td>0.036467</td>\n",
              "      <td>0.953626</td>\n",
              "      <td>0.017002</td>\n",
              "      <td>0.291925</td>\n",
              "      <td>0.001421</td>\n",
              "      <td>0.011829</td>\n",
              "      <td>0.057560</td>\n",
              "    </tr>\n",
              "    <tr>\n",
              "      <th>172</th>\n",
              "      <td>0.085319</td>\n",
              "      <td>0.993043</td>\n",
              "      <td>0.003255</td>\n",
              "      <td>0.044610</td>\n",
              "      <td>0.004439</td>\n",
              "      <td>0.012317</td>\n",
              "      <td>0.059942</td>\n",
              "    </tr>\n",
              "    <tr>\n",
              "      <th>34</th>\n",
              "      <td>0.017257</td>\n",
              "      <td>0.992420</td>\n",
              "      <td>0.007593</td>\n",
              "      <td>0.101260</td>\n",
              "      <td>0.003451</td>\n",
              "      <td>0.012319</td>\n",
              "      <td>0.059929</td>\n",
              "    </tr>\n",
              "    <tr>\n",
              "      <th>...</th>\n",
              "      <td>...</td>\n",
              "      <td>...</td>\n",
              "      <td>...</td>\n",
              "      <td>...</td>\n",
              "      <td>...</td>\n",
              "      <td>...</td>\n",
              "      <td>...</td>\n",
              "    </tr>\n",
              "    <tr>\n",
              "      <th>369</th>\n",
              "      <td>0.123479</td>\n",
              "      <td>0.671679</td>\n",
              "      <td>0.006741</td>\n",
              "      <td>0.729234</td>\n",
              "      <td>0.001001</td>\n",
              "      <td>0.008331</td>\n",
              "      <td>0.040552</td>\n",
              "    </tr>\n",
              "    <tr>\n",
              "      <th>320</th>\n",
              "      <td>0.068770</td>\n",
              "      <td>0.431204</td>\n",
              "      <td>0.002892</td>\n",
              "      <td>0.899224</td>\n",
              "      <td>0.000000</td>\n",
              "      <td>0.005343</td>\n",
              "      <td>0.026031</td>\n",
              "    </tr>\n",
              "    <tr>\n",
              "      <th>15</th>\n",
              "      <td>0.007619</td>\n",
              "      <td>0.958905</td>\n",
              "      <td>0.017001</td>\n",
              "      <td>0.275830</td>\n",
              "      <td>0.000952</td>\n",
              "      <td>0.011897</td>\n",
              "      <td>0.057883</td>\n",
              "    </tr>\n",
              "    <tr>\n",
              "      <th>125</th>\n",
              "      <td>0.062046</td>\n",
              "      <td>0.991337</td>\n",
              "      <td>0.000542</td>\n",
              "      <td>0.095326</td>\n",
              "      <td>0.002955</td>\n",
              "      <td>0.012294</td>\n",
              "      <td>0.059850</td>\n",
              "    </tr>\n",
              "    <tr>\n",
              "      <th>265</th>\n",
              "      <td>0.121347</td>\n",
              "      <td>0.918240</td>\n",
              "      <td>0.007162</td>\n",
              "      <td>0.372222</td>\n",
              "      <td>0.001825</td>\n",
              "      <td>0.011395</td>\n",
              "      <td>0.055443</td>\n",
              "    </tr>\n",
              "  </tbody>\n",
              "</table>\n",
              "<p>310 rows × 7 columns</p>\n",
              "</div>\n",
              "      <button class=\"colab-df-convert\" onclick=\"convertToInteractive('df-7467060f-4392-4d15-8f03-8f0d666bcc9e')\"\n",
              "              title=\"Convert this dataframe to an interactive table.\"\n",
              "              style=\"display:none;\">\n",
              "        \n",
              "  <svg xmlns=\"http://www.w3.org/2000/svg\" height=\"24px\"viewBox=\"0 0 24 24\"\n",
              "       width=\"24px\">\n",
              "    <path d=\"M0 0h24v24H0V0z\" fill=\"none\"/>\n",
              "    <path d=\"M18.56 5.44l.94 2.06.94-2.06 2.06-.94-2.06-.94-.94-2.06-.94 2.06-2.06.94zm-11 1L8.5 8.5l.94-2.06 2.06-.94-2.06-.94L8.5 2.5l-.94 2.06-2.06.94zm10 10l.94 2.06.94-2.06 2.06-.94-2.06-.94-.94-2.06-.94 2.06-2.06.94z\"/><path d=\"M17.41 7.96l-1.37-1.37c-.4-.4-.92-.59-1.43-.59-.52 0-1.04.2-1.43.59L10.3 9.45l-7.72 7.72c-.78.78-.78 2.05 0 2.83L4 21.41c.39.39.9.59 1.41.59.51 0 1.02-.2 1.41-.59l7.78-7.78 2.81-2.81c.8-.78.8-2.07 0-2.86zM5.41 20L4 18.59l7.72-7.72 1.47 1.35L5.41 20z\"/>\n",
              "  </svg>\n",
              "      </button>\n",
              "      \n",
              "  <style>\n",
              "    .colab-df-container {\n",
              "      display:flex;\n",
              "      flex-wrap:wrap;\n",
              "      gap: 12px;\n",
              "    }\n",
              "\n",
              "    .colab-df-convert {\n",
              "      background-color: #E8F0FE;\n",
              "      border: none;\n",
              "      border-radius: 50%;\n",
              "      cursor: pointer;\n",
              "      display: none;\n",
              "      fill: #1967D2;\n",
              "      height: 32px;\n",
              "      padding: 0 0 0 0;\n",
              "      width: 32px;\n",
              "    }\n",
              "\n",
              "    .colab-df-convert:hover {\n",
              "      background-color: #E2EBFA;\n",
              "      box-shadow: 0px 1px 2px rgba(60, 64, 67, 0.3), 0px 1px 3px 1px rgba(60, 64, 67, 0.15);\n",
              "      fill: #174EA6;\n",
              "    }\n",
              "\n",
              "    [theme=dark] .colab-df-convert {\n",
              "      background-color: #3B4455;\n",
              "      fill: #D2E3FC;\n",
              "    }\n",
              "\n",
              "    [theme=dark] .colab-df-convert:hover {\n",
              "      background-color: #434B5C;\n",
              "      box-shadow: 0px 1px 3px 1px rgba(0, 0, 0, 0.15);\n",
              "      filter: drop-shadow(0px 1px 2px rgba(0, 0, 0, 0.3));\n",
              "      fill: #FFFFFF;\n",
              "    }\n",
              "  </style>\n",
              "\n",
              "      <script>\n",
              "        const buttonEl =\n",
              "          document.querySelector('#df-7467060f-4392-4d15-8f03-8f0d666bcc9e button.colab-df-convert');\n",
              "        buttonEl.style.display =\n",
              "          google.colab.kernel.accessAllowed ? 'block' : 'none';\n",
              "\n",
              "        async function convertToInteractive(key) {\n",
              "          const element = document.querySelector('#df-7467060f-4392-4d15-8f03-8f0d666bcc9e');\n",
              "          const dataTable =\n",
              "            await google.colab.kernel.invokeFunction('convertToInteractive',\n",
              "                                                     [key], {});\n",
              "          if (!dataTable) return;\n",
              "\n",
              "          const docLinkHtml = 'Like what you see? Visit the ' +\n",
              "            '<a target=\"_blank\" href=https://colab.research.google.com/notebooks/data_table.ipynb>data table notebook</a>'\n",
              "            + ' to learn more about interactive tables.';\n",
              "          element.innerHTML = '';\n",
              "          dataTable['output_type'] = 'display_data';\n",
              "          await google.colab.output.renderOutput(dataTable, element);\n",
              "          const docLink = document.createElement('div');\n",
              "          docLink.innerHTML = docLinkHtml;\n",
              "          element.appendChild(docLink);\n",
              "        }\n",
              "      </script>\n",
              "    </div>\n",
              "  </div>\n",
              "  "
            ]
          },
          "metadata": {},
          "execution_count": 309
        }
      ]
    },
    {
      "cell_type": "markdown",
      "source": [
        "#Original Model"
      ],
      "metadata": {
        "id": "61jdZRmDYkno"
      }
    },
    {
      "cell_type": "code",
      "source": [
        "from sklearn.linear_model import LinearRegression\n",
        "model1 = LinearRegression()\n",
        "model1.fit(X_train, y_train)\n",
        "y_pred_1 = model1.predict(X_test)"
      ],
      "metadata": {
        "id": "9Pfsi46BySOo"
      },
      "execution_count": null,
      "outputs": []
    },
    {
      "cell_type": "markdown",
      "source": [
        "#Pearson's Correlation Model"
      ],
      "metadata": {
        "id": "TH0xgbURYqHB"
      }
    },
    {
      "cell_type": "code",
      "source": [
        "X_train = X_train.drop(corrFeatures, axis = 1)\n",
        "X_test = X_test.drop(corrFeatures,axis=1)"
      ],
      "metadata": {
        "id": "xAZfG6R8U_uV"
      },
      "execution_count": null,
      "outputs": []
    },
    {
      "cell_type": "code",
      "source": [
        "model2 = LinearRegression()\n",
        "model2.fit(X_train, y_train)\n",
        "y_pred_2 = model2.predict(X_test)"
      ],
      "metadata": {
        "id": "bDotXoL5WNG9"
      },
      "execution_count": null,
      "outputs": []
    },
    {
      "cell_type": "markdown",
      "source": [
        "#So sánh MAE giữa Original Model và Pearson's Correlation Model"
      ],
      "metadata": {
        "id": "-iivHXJgXBu_"
      }
    },
    {
      "cell_type": "code",
      "source": [
        "from sklearn.metrics import mean_absolute_error\n",
        "error_model1 = mean_absolute_error(y_test,y_pred_1)\n",
        "error_model2 = mean_absolute_error(y_test,y_pred_2)\n",
        "print(\"MAE of Original Model: \", error_model1)\n",
        "print(\"MAE of Pearson's Correlation Model: \", error_model2)"
      ],
      "metadata": {
        "colab": {
          "base_uri": "https://localhost:8080/"
        },
        "id": "yZ915PwMzvVS",
        "outputId": "1dffe772-8ec4-496a-8dd3-1783d346cdc6"
      },
      "execution_count": null,
      "outputs": [
        {
          "output_type": "stream",
          "name": "stdout",
          "text": [
            "MAE of Original Model:  0.002445298004312415\n",
            "MAE of Pearson's Correlation Model:  0.0034501294115035584\n"
          ]
        }
      ]
    }
  ]
}