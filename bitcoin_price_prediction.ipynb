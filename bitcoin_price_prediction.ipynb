{
  "nbformat": 4,
  "nbformat_minor": 0,
  "metadata": {
    "colab": {
      "provenance": [],
      "collapsed_sections": [
        "T6sX-g7SsDTg",
        "bDMGcoF-sBfg",
        "3eRd9o0btvOc",
        "dffQFcHcTNIh",
        "LjHGeJO0oY-H",
        "NDUAyO2lbxtl",
        "z1u0uEJGTp3v",
        "fpvJJuUoqaQW",
        "FHhE_BUyw_-k",
        "kLAwshIzZ_vb",
        "6nxoBs-ASKU5",
        "0OSwbvViYFJr",
        "l2BfACExthIi",
        "2oUiqPr_thIn",
        "qrek6-Urc1F0",
        "V1BIVYIIYfKd",
        "PJluNw526ae_",
        "JbTxcRFYadP2",
        "1sXTnyABiQje",
        "WZwHor-siQjp",
        "MtOafYTzpENp",
        "daw3gXDvWuvT",
        "D4DxTZIyyPhj",
        "XeV0icuyAtky",
        "hisc9dANYfOx",
        "0g-O_WeLrZ-R",
        "bTupW_jMs5XU",
        "YN82e6AR1SEM"
      ]
    },
    "kernelspec": {
      "name": "python3",
      "display_name": "Python 3"
    },
    "language_info": {
      "name": "python"
    }
  },
  "cells": [
    {
      "cell_type": "markdown",
      "source": [
        "#Import data"
      ],
      "metadata": {
        "id": "T6sX-g7SsDTg"
      }
    },
    {
      "cell_type": "code",
      "execution_count": 323,
      "metadata": {
        "colab": {
          "base_uri": "https://localhost:8080/",
          "height": 0
        },
        "id": "DE5rKh9BpdAC",
        "outputId": "c05682d4-5e65-4ed8-dc3f-41dd156c06fa"
      },
      "outputs": [
        {
          "output_type": "execute_result",
          "data": {
            "text/plain": [
              "                    Open          High           Low         Close  \\\n",
              "Date                                                                 \n",
              "2022-11-15  16617.484375  17051.962891  16542.550781  16884.613281   \n",
              "2022-11-16  16884.341797  16960.294922  16430.111328  16669.439453   \n",
              "2022-11-17  16670.425781  16726.439453  16460.683594  16687.517578   \n",
              "2022-11-18  16687.912109  16947.058594  16564.611328  16697.777344   \n",
              "2022-11-19  16694.867188  16694.867188  16573.224609  16638.134766   \n",
              "\n",
              "               Adj Close       Volume  \n",
              "Date                                   \n",
              "2022-11-15  16884.613281  36599436183  \n",
              "2022-11-16  16669.439453  33925512989  \n",
              "2022-11-17  16687.517578  27868914022  \n",
              "2022-11-18  16697.777344  26862218609  \n",
              "2022-11-19  16638.134766  15707914240  "
            ],
            "text/html": [
              "\n",
              "  <div id=\"df-d4e3d2a7-8ad0-4c75-9cc7-8f41cd00f272\">\n",
              "    <div class=\"colab-df-container\">\n",
              "      <div>\n",
              "<style scoped>\n",
              "    .dataframe tbody tr th:only-of-type {\n",
              "        vertical-align: middle;\n",
              "    }\n",
              "\n",
              "    .dataframe tbody tr th {\n",
              "        vertical-align: top;\n",
              "    }\n",
              "\n",
              "    .dataframe thead th {\n",
              "        text-align: right;\n",
              "    }\n",
              "</style>\n",
              "<table border=\"1\" class=\"dataframe\">\n",
              "  <thead>\n",
              "    <tr style=\"text-align: right;\">\n",
              "      <th></th>\n",
              "      <th>Open</th>\n",
              "      <th>High</th>\n",
              "      <th>Low</th>\n",
              "      <th>Close</th>\n",
              "      <th>Adj Close</th>\n",
              "      <th>Volume</th>\n",
              "    </tr>\n",
              "    <tr>\n",
              "      <th>Date</th>\n",
              "      <th></th>\n",
              "      <th></th>\n",
              "      <th></th>\n",
              "      <th></th>\n",
              "      <th></th>\n",
              "      <th></th>\n",
              "    </tr>\n",
              "  </thead>\n",
              "  <tbody>\n",
              "    <tr>\n",
              "      <th>2022-11-15</th>\n",
              "      <td>16617.484375</td>\n",
              "      <td>17051.962891</td>\n",
              "      <td>16542.550781</td>\n",
              "      <td>16884.613281</td>\n",
              "      <td>16884.613281</td>\n",
              "      <td>36599436183</td>\n",
              "    </tr>\n",
              "    <tr>\n",
              "      <th>2022-11-16</th>\n",
              "      <td>16884.341797</td>\n",
              "      <td>16960.294922</td>\n",
              "      <td>16430.111328</td>\n",
              "      <td>16669.439453</td>\n",
              "      <td>16669.439453</td>\n",
              "      <td>33925512989</td>\n",
              "    </tr>\n",
              "    <tr>\n",
              "      <th>2022-11-17</th>\n",
              "      <td>16670.425781</td>\n",
              "      <td>16726.439453</td>\n",
              "      <td>16460.683594</td>\n",
              "      <td>16687.517578</td>\n",
              "      <td>16687.517578</td>\n",
              "      <td>27868914022</td>\n",
              "    </tr>\n",
              "    <tr>\n",
              "      <th>2022-11-18</th>\n",
              "      <td>16687.912109</td>\n",
              "      <td>16947.058594</td>\n",
              "      <td>16564.611328</td>\n",
              "      <td>16697.777344</td>\n",
              "      <td>16697.777344</td>\n",
              "      <td>26862218609</td>\n",
              "    </tr>\n",
              "    <tr>\n",
              "      <th>2022-11-19</th>\n",
              "      <td>16694.867188</td>\n",
              "      <td>16694.867188</td>\n",
              "      <td>16573.224609</td>\n",
              "      <td>16638.134766</td>\n",
              "      <td>16638.134766</td>\n",
              "      <td>15707914240</td>\n",
              "    </tr>\n",
              "  </tbody>\n",
              "</table>\n",
              "</div>\n",
              "      <button class=\"colab-df-convert\" onclick=\"convertToInteractive('df-d4e3d2a7-8ad0-4c75-9cc7-8f41cd00f272')\"\n",
              "              title=\"Convert this dataframe to an interactive table.\"\n",
              "              style=\"display:none;\">\n",
              "        \n",
              "  <svg xmlns=\"http://www.w3.org/2000/svg\" height=\"24px\"viewBox=\"0 0 24 24\"\n",
              "       width=\"24px\">\n",
              "    <path d=\"M0 0h24v24H0V0z\" fill=\"none\"/>\n",
              "    <path d=\"M18.56 5.44l.94 2.06.94-2.06 2.06-.94-2.06-.94-.94-2.06-.94 2.06-2.06.94zm-11 1L8.5 8.5l.94-2.06 2.06-.94-2.06-.94L8.5 2.5l-.94 2.06-2.06.94zm10 10l.94 2.06.94-2.06 2.06-.94-2.06-.94-.94-2.06-.94 2.06-2.06.94z\"/><path d=\"M17.41 7.96l-1.37-1.37c-.4-.4-.92-.59-1.43-.59-.52 0-1.04.2-1.43.59L10.3 9.45l-7.72 7.72c-.78.78-.78 2.05 0 2.83L4 21.41c.39.39.9.59 1.41.59.51 0 1.02-.2 1.41-.59l7.78-7.78 2.81-2.81c.8-.78.8-2.07 0-2.86zM5.41 20L4 18.59l7.72-7.72 1.47 1.35L5.41 20z\"/>\n",
              "  </svg>\n",
              "      </button>\n",
              "      \n",
              "  <style>\n",
              "    .colab-df-container {\n",
              "      display:flex;\n",
              "      flex-wrap:wrap;\n",
              "      gap: 12px;\n",
              "    }\n",
              "\n",
              "    .colab-df-convert {\n",
              "      background-color: #E8F0FE;\n",
              "      border: none;\n",
              "      border-radius: 50%;\n",
              "      cursor: pointer;\n",
              "      display: none;\n",
              "      fill: #1967D2;\n",
              "      height: 32px;\n",
              "      padding: 0 0 0 0;\n",
              "      width: 32px;\n",
              "    }\n",
              "\n",
              "    .colab-df-convert:hover {\n",
              "      background-color: #E2EBFA;\n",
              "      box-shadow: 0px 1px 2px rgba(60, 64, 67, 0.3), 0px 1px 3px 1px rgba(60, 64, 67, 0.15);\n",
              "      fill: #174EA6;\n",
              "    }\n",
              "\n",
              "    [theme=dark] .colab-df-convert {\n",
              "      background-color: #3B4455;\n",
              "      fill: #D2E3FC;\n",
              "    }\n",
              "\n",
              "    [theme=dark] .colab-df-convert:hover {\n",
              "      background-color: #434B5C;\n",
              "      box-shadow: 0px 1px 3px 1px rgba(0, 0, 0, 0.15);\n",
              "      filter: drop-shadow(0px 1px 2px rgba(0, 0, 0, 0.3));\n",
              "      fill: #FFFFFF;\n",
              "    }\n",
              "  </style>\n",
              "\n",
              "      <script>\n",
              "        const buttonEl =\n",
              "          document.querySelector('#df-d4e3d2a7-8ad0-4c75-9cc7-8f41cd00f272 button.colab-df-convert');\n",
              "        buttonEl.style.display =\n",
              "          google.colab.kernel.accessAllowed ? 'block' : 'none';\n",
              "\n",
              "        async function convertToInteractive(key) {\n",
              "          const element = document.querySelector('#df-d4e3d2a7-8ad0-4c75-9cc7-8f41cd00f272');\n",
              "          const dataTable =\n",
              "            await google.colab.kernel.invokeFunction('convertToInteractive',\n",
              "                                                     [key], {});\n",
              "          if (!dataTable) return;\n",
              "\n",
              "          const docLinkHtml = 'Like what you see? Visit the ' +\n",
              "            '<a target=\"_blank\" href=https://colab.research.google.com/notebooks/data_table.ipynb>data table notebook</a>'\n",
              "            + ' to learn more about interactive tables.';\n",
              "          element.innerHTML = '';\n",
              "          dataTable['output_type'] = 'display_data';\n",
              "          await google.colab.output.renderOutput(dataTable, element);\n",
              "          const docLink = document.createElement('div');\n",
              "          docLink.innerHTML = docLinkHtml;\n",
              "          element.appendChild(docLink);\n",
              "        }\n",
              "      </script>\n",
              "    </div>\n",
              "  </div>\n",
              "  "
            ]
          },
          "metadata": {},
          "execution_count": 323
        }
      ],
      "source": [
        "import numpy as np\n",
        "import pandas as pd\n",
        "from time import time\n",
        "\n",
        "data = pd.read_csv('BTC-USD.csv', index_col = 'Date')\n",
        "data.tail()"
      ]
    },
    {
      "cell_type": "markdown",
      "source": [
        "#Preprocessing"
      ],
      "metadata": {
        "id": "bDMGcoF-sBfg"
      }
    },
    {
      "cell_type": "code",
      "source": [
        "from sklearn.preprocessing import StandardScaler\n",
        "\n",
        "sc = StandardScaler()\n",
        "training_set = data.iloc[:,0:4]\n",
        "training_set_scaled = sc.fit_transform(training_set.values)"
      ],
      "metadata": {
        "id": "hFeX3d1hqxju"
      },
      "execution_count": 324,
      "outputs": []
    },
    {
      "cell_type": "markdown",
      "source": [
        "#**Dự đoán theo ngày**"
      ],
      "metadata": {
        "id": "3eRd9o0btvOc"
      }
    },
    {
      "cell_type": "code",
      "source": [
        "X = []\n",
        "y = []\n",
        "for i in range(60, len(training_set_scaled)):\n",
        "    X.append(training_set_scaled[i-60:i])\n",
        "    y.append(training_set_scaled[i])\n",
        "X, y = np.array(X), np.array(y)\n",
        "\n",
        "split_index = int(np.ceil(len(X)*0.8))\n",
        "date_index = data.index\n",
        "X_train, X_test = X[:split_index], X[split_index:-14]\n",
        "y_train, y_test = y[:split_index], y[split_index:]\n",
        "X_val , y_val = X[split_index:split_index+100], y[split_index:split_index+100]\n",
        "X_train_date, X_test_date = date_index[:split_index], date_index[split_index:]\n",
        "print(X.shape, X_train.shape, y_train.shape)"
      ],
      "metadata": {
        "colab": {
          "base_uri": "https://localhost:8080/"
        },
        "id": "dlPtfvXCIqt8",
        "outputId": "5f84bb1e-7f08-4103-fb76-b137529c9501"
      },
      "execution_count": 325,
      "outputs": [
        {
          "output_type": "stream",
          "name": "stdout",
          "text": [
            "(1037, 60, 4) (830, 60, 4) (830, 4)\n"
          ]
        }
      ]
    },
    {
      "cell_type": "code",
      "source": [
        "X_train_2dims = X_train.reshape((X_train.shape[0], X_train.shape[1]*X_train.shape[2]))\n",
        "X_test_2dims = X_test.reshape((X_test.shape[0], X_test.shape[1]*X_test.shape[2]))"
      ],
      "metadata": {
        "id": "USgEpKkKYIBK"
      },
      "execution_count": 326,
      "outputs": []
    },
    {
      "cell_type": "markdown",
      "source": [
        "#LSTM Model"
      ],
      "metadata": {
        "id": "dffQFcHcTNIh"
      }
    },
    {
      "cell_type": "code",
      "source": [
        "import tensorflow as tf\n",
        "from tensorflow.keras.models import Sequential\n",
        "from tensorflow.keras.layers import Dense\n",
        "from tensorflow.keras.layers import LSTM"
      ],
      "metadata": {
        "id": "SIrYYqmCQc60"
      },
      "execution_count": 327,
      "outputs": []
    },
    {
      "cell_type": "code",
      "source": [
        "lstm = Sequential()\n",
        "lstm.add(LSTM(units = 64, return_sequences = True, input_shape = (X_train.shape[1], X_train.shape[2])))\n",
        "lstm.add(LSTM(units = 64, return_sequences = False))\n",
        "lstm.add(Dense(units = 4))\n",
        "\n",
        "lstm.compile(optimizer = 'adam', loss = 'mean_squared_error')\n",
        "start = time()\n",
        "lstm.fit(X_train, y_train, epochs = 10, batch_size = 32, validation_data=(X_val, y_val))\n",
        "end = time()\n",
        "training_time_lstm = end - start\n",
        "lstm.build(X_train.shape)\n",
        "lstm.summary()"
      ],
      "metadata": {
        "colab": {
          "base_uri": "https://localhost:8080/"
        },
        "id": "_ZjtHO8xQjgt",
        "outputId": "fe463d63-48b3-4df2-831d-884bc6750d19"
      },
      "execution_count": 328,
      "outputs": [
        {
          "output_type": "stream",
          "name": "stdout",
          "text": [
            "Epoch 1/10\n",
            "26/26 [==============================] - 8s 113ms/step - loss: 0.2510 - val_loss: 0.0407\n",
            "Epoch 2/10\n",
            "26/26 [==============================] - 2s 73ms/step - loss: 0.0381 - val_loss: 0.0211\n",
            "Epoch 3/10\n",
            "26/26 [==============================] - 2s 71ms/step - loss: 0.0249 - val_loss: 0.0251\n",
            "Epoch 4/10\n",
            "26/26 [==============================] - 2s 72ms/step - loss: 0.0208 - val_loss: 0.0261\n",
            "Epoch 5/10\n",
            "26/26 [==============================] - 2s 72ms/step - loss: 0.0184 - val_loss: 0.0232\n",
            "Epoch 6/10\n",
            "26/26 [==============================] - 2s 70ms/step - loss: 0.0174 - val_loss: 0.0220\n",
            "Epoch 7/10\n",
            "26/26 [==============================] - 2s 69ms/step - loss: 0.0160 - val_loss: 0.0229\n",
            "Epoch 8/10\n",
            "26/26 [==============================] - 2s 70ms/step - loss: 0.0141 - val_loss: 0.0205\n",
            "Epoch 9/10\n",
            "26/26 [==============================] - 2s 71ms/step - loss: 0.0125 - val_loss: 0.0219\n",
            "Epoch 10/10\n",
            "26/26 [==============================] - 2s 72ms/step - loss: 0.0119 - val_loss: 0.0193\n",
            "Model: \"sequential_30\"\n",
            "_________________________________________________________________\n",
            " Layer (type)                Output Shape              Param #   \n",
            "=================================================================\n",
            " lstm_30 (LSTM)              (None, 60, 64)            17664     \n",
            "                                                                 \n",
            " lstm_31 (LSTM)              (None, 64)                33024     \n",
            "                                                                 \n",
            " dense_30 (Dense)            (None, 4)                 260       \n",
            "                                                                 \n",
            "=================================================================\n",
            "Total params: 50,948\n",
            "Trainable params: 50,948\n",
            "Non-trainable params: 0\n",
            "_________________________________________________________________\n"
          ]
        }
      ]
    },
    {
      "cell_type": "code",
      "source": [
        "X_test_lstm = X_test\n",
        "start = time()\n",
        "for i in range(14):\n",
        "  y_pred_lstm = lstm.predict(X_test_lstm)\n",
        "  X_14d = np.concatenate((X_test_lstm[-1, 1:, :], y_pred_lstm[-1,:].reshape((1,4))))\n",
        "  X_test_lstm = np.concatenate((X_test_lstm, X_14d.reshape(1,60,4)))\n",
        "end = time()\n",
        "testing_time_lstm = end - start"
      ],
      "metadata": {
        "id": "Z5GWkNRHUfOI",
        "colab": {
          "base_uri": "https://localhost:8080/"
        },
        "outputId": "1828c167-4133-42e8-c1bd-b8e8fcf81f2f"
      },
      "execution_count": 329,
      "outputs": [
        {
          "output_type": "stream",
          "name": "stdout",
          "text": [
            "7/7 [==============================] - 1s 17ms/step\n",
            "7/7 [==============================] - 0s 19ms/step\n",
            "7/7 [==============================] - 0s 20ms/step\n",
            "7/7 [==============================] - 0s 20ms/step\n",
            "7/7 [==============================] - 0s 18ms/step\n",
            "7/7 [==============================] - 0s 18ms/step\n",
            "7/7 [==============================] - 0s 21ms/step\n",
            "7/7 [==============================] - 0s 21ms/step\n",
            "7/7 [==============================] - 0s 19ms/step\n",
            "7/7 [==============================] - 0s 19ms/step\n",
            "7/7 [==============================] - 0s 21ms/step\n",
            "7/7 [==============================] - 0s 20ms/step\n",
            "7/7 [==============================] - 0s 19ms/step\n",
            "7/7 [==============================] - 0s 19ms/step\n"
          ]
        }
      ]
    },
    {
      "cell_type": "markdown",
      "source": [
        "#MLP"
      ],
      "metadata": {
        "id": "LjHGeJO0oY-H"
      }
    },
    {
      "cell_type": "code",
      "source": [
        "from sklearn.neural_network import MLPRegressor\n",
        "\n",
        "mlp = MLPRegressor(hidden_layer_sizes=8, max_iter = 35, activation='relu', solver ='sgd', learning_rate = 'invscaling')\n",
        "start = time()\n",
        "mlp.fit(X_train_2dims, y_train)\n",
        "end = time()\n",
        "training_time_mlp = end - start"
      ],
      "metadata": {
        "id": "VK4vL6xxmpkb"
      },
      "execution_count": 330,
      "outputs": []
    },
    {
      "cell_type": "code",
      "source": [
        "X_test_mlp = X_test_2dims\n",
        "start = time()\n",
        "for i in range(14):\n",
        "  y_pred_mlp = mlp.predict(X_test_mlp)\n",
        "  X_14d = np.concatenate((X_test_mlp[-1, 4:], y_pred_mlp[-1,:].reshape((4))))\n",
        "  X_test_mlp = np.concatenate((X_test_mlp, X_14d.reshape(1,240)))\n",
        "end = time()\n",
        "testing_time_mlp = end - start"
      ],
      "metadata": {
        "id": "siwtl1D8oaX5"
      },
      "execution_count": 331,
      "outputs": []
    },
    {
      "cell_type": "markdown",
      "source": [
        "#RNN"
      ],
      "metadata": {
        "id": "NDUAyO2lbxtl"
      }
    },
    {
      "cell_type": "code",
      "source": [
        "from tensorflow.keras.layers import SimpleRNN\n",
        "rnn = Sequential()\n",
        "rnn.add(SimpleRNN(units = 64, return_sequences = True, input_shape = (X_train.shape[1], X_train.shape[2])))\n",
        "rnn.add(SimpleRNN(units = 32, return_sequences = False))\n",
        "rnn.add(Dense(units = 4))\n",
        "\n",
        "rnn.compile(optimizer = 'adam', loss = 'mean_squared_error')\n",
        "start = time()\n",
        "rnn.fit(X_train, y_train, epochs = 10, batch_size = 32, validation_data=(X_val, y_val))\n",
        "end = time()\n",
        "training_time_rnn = end - start\n",
        "rnn.build(X_train.shape)\n",
        "rnn.summary()"
      ],
      "metadata": {
        "colab": {
          "base_uri": "https://localhost:8080/"
        },
        "id": "T0YNmUM7by2E",
        "outputId": "46f2f6bf-4e4e-4238-d4b4-46707c7efdb2"
      },
      "execution_count": 332,
      "outputs": [
        {
          "output_type": "stream",
          "name": "stdout",
          "text": [
            "Epoch 1/10\n",
            "26/26 [==============================] - 3s 38ms/step - loss: 0.1459 - val_loss: 0.0588\n",
            "Epoch 2/10\n",
            "26/26 [==============================] - 1s 27ms/step - loss: 0.0236 - val_loss: 0.0434\n",
            "Epoch 3/10\n",
            "26/26 [==============================] - 1s 26ms/step - loss: 0.0136 - val_loss: 0.0226\n",
            "Epoch 4/10\n",
            "26/26 [==============================] - 1s 26ms/step - loss: 0.0109 - val_loss: 0.0200\n",
            "Epoch 5/10\n",
            "26/26 [==============================] - 1s 26ms/step - loss: 0.0092 - val_loss: 0.0298\n",
            "Epoch 6/10\n",
            "26/26 [==============================] - 1s 27ms/step - loss: 0.0090 - val_loss: 0.0273\n",
            "Epoch 7/10\n",
            "26/26 [==============================] - 1s 25ms/step - loss: 0.0079 - val_loss: 0.0178\n",
            "Epoch 8/10\n",
            "26/26 [==============================] - 1s 27ms/step - loss: 0.0072 - val_loss: 0.0160\n",
            "Epoch 9/10\n",
            "26/26 [==============================] - 1s 26ms/step - loss: 0.0066 - val_loss: 0.0161\n",
            "Epoch 10/10\n",
            "26/26 [==============================] - 1s 27ms/step - loss: 0.0064 - val_loss: 0.0121\n",
            "Model: \"sequential_31\"\n",
            "_________________________________________________________________\n",
            " Layer (type)                Output Shape              Param #   \n",
            "=================================================================\n",
            " simple_rnn_30 (SimpleRNN)   (None, 60, 64)            4416      \n",
            "                                                                 \n",
            " simple_rnn_31 (SimpleRNN)   (None, 32)                3104      \n",
            "                                                                 \n",
            " dense_31 (Dense)            (None, 4)                 132       \n",
            "                                                                 \n",
            "=================================================================\n",
            "Total params: 7,652\n",
            "Trainable params: 7,652\n",
            "Non-trainable params: 0\n",
            "_________________________________________________________________\n"
          ]
        }
      ]
    },
    {
      "cell_type": "code",
      "source": [
        "X_test_rnn = X_test\n",
        "start = time()\n",
        "for i in range(14):\n",
        "  y_pred_rnn = rnn.predict(X_test_rnn)\n",
        "  X_14d = np.concatenate((X_test_rnn[-1, 1:, :], y_pred_rnn[-1,:].reshape((1,4))))\n",
        "  X_test_rnn = np.concatenate((X_test_rnn, X_14d.reshape(1,60,4)))\n",
        "end = time()\n",
        "testing_time_rnn = end - start"
      ],
      "metadata": {
        "id": "9_lZ_8-pc3mD",
        "colab": {
          "base_uri": "https://localhost:8080/"
        },
        "outputId": "72a5e7e1-d457-460c-ea0d-1dfd38dd43f5"
      },
      "execution_count": 333,
      "outputs": [
        {
          "output_type": "stream",
          "name": "stdout",
          "text": [
            "7/7 [==============================] - 0s 7ms/step\n",
            "7/7 [==============================] - 0s 8ms/step\n",
            "7/7 [==============================] - 0s 7ms/step\n",
            "7/7 [==============================] - 0s 7ms/step\n",
            "7/7 [==============================] - 0s 8ms/step\n",
            "7/7 [==============================] - 0s 8ms/step\n",
            "7/7 [==============================] - 0s 7ms/step\n",
            "7/7 [==============================] - 0s 10ms/step\n",
            "7/7 [==============================] - 0s 8ms/step\n",
            "7/7 [==============================] - 0s 10ms/step\n",
            "7/7 [==============================] - 0s 8ms/step\n",
            "7/7 [==============================] - 0s 8ms/step\n",
            "7/7 [==============================] - 0s 8ms/step\n",
            "7/7 [==============================] - 0s 7ms/step\n"
          ]
        }
      ]
    },
    {
      "cell_type": "markdown",
      "source": [
        "#SVM"
      ],
      "metadata": {
        "id": "z1u0uEJGTp3v"
      }
    },
    {
      "cell_type": "code",
      "source": [
        "from sklearn.svm import SVR\n",
        "from sklearn.multioutput import MultiOutputRegressor\n",
        "\n",
        "svr = MultiOutputRegressor(SVR())\n",
        "start = time()\n",
        "svr.fit(X_train_2dims, y_train)\n",
        "end = time()\n",
        "training_time_svr = end - start"
      ],
      "metadata": {
        "id": "6cDm1BGnTrzm"
      },
      "execution_count": 334,
      "outputs": []
    },
    {
      "cell_type": "code",
      "source": [
        "X_test_svr = X_test_2dims\n",
        "start = time()\n",
        "for i in range(14):\n",
        "  y_pred_svr = svr.predict(X_test_svr)\n",
        "  X_14d = np.concatenate((X_test_svr[-1, 4:], y_pred_svr[-1,:].reshape((4))))\n",
        "  X_test_svr = np.concatenate((X_test_svr, X_14d.reshape(1,240)))\n",
        "end = time()\n",
        "testing_time_svr = end - start"
      ],
      "metadata": {
        "id": "W-_miBEFSJqD"
      },
      "execution_count": 335,
      "outputs": []
    },
    {
      "cell_type": "markdown",
      "source": [
        "#kNN"
      ],
      "metadata": {
        "id": "fpvJJuUoqaQW"
      }
    },
    {
      "cell_type": "code",
      "source": [
        "from sklearn.neighbors import KNeighborsRegressor\n",
        "\n",
        "kNN = KNeighborsRegressor()\n",
        "start = time()\n",
        "kNN.fit(X_train_2dims, y_train)\n",
        "end = time()\n",
        "training_time_kNN = end - start"
      ],
      "metadata": {
        "id": "ztEBHkqwqaQX"
      },
      "execution_count": 336,
      "outputs": []
    },
    {
      "cell_type": "code",
      "source": [
        "X_test_kNN = X_test_2dims\n",
        "start = time()\n",
        "for i in range(14):\n",
        "  y_pred_kNN = kNN.predict(X_test_kNN)\n",
        "  X_14d = np.concatenate((X_test_kNN[-1, 4:], y_pred_kNN[-1,:].reshape((4))))\n",
        "  X_test_kNN = np.concatenate((X_test_kNN, X_14d.reshape(1,240)))\n",
        "end = time()\n",
        "testing_time_kNN = end - start"
      ],
      "metadata": {
        "id": "4LkVrJSOqaQX"
      },
      "execution_count": 337,
      "outputs": []
    },
    {
      "cell_type": "markdown",
      "source": [
        "#Linear Regression"
      ],
      "metadata": {
        "id": "FHhE_BUyw_-k"
      }
    },
    {
      "cell_type": "code",
      "source": [
        "from sklearn.linear_model import LinearRegression\n",
        "\n",
        "lr = LinearRegression()\n",
        "start = time()\n",
        "lr.fit(X_train_2dims, y_train)\n",
        "end = time()\n",
        "training_time_lr = end - start"
      ],
      "metadata": {
        "id": "n1UWcXM9xNG7"
      },
      "execution_count": 338,
      "outputs": []
    },
    {
      "cell_type": "code",
      "source": [
        "X_test_lr = X_test_2dims\n",
        "start = time()\n",
        "for i in range(14):\n",
        "  y_pred_lr = lr.predict(X_test_lr)\n",
        "  X_14d = np.concatenate((X_test_lr[-1, 4:], y_pred_lr[-1,:].reshape((4))))\n",
        "  X_test_lr = np.concatenate((X_test_lr, X_14d.reshape(1,240)))\n",
        "end = time()\n",
        "testing_time_lr = end - start"
      ],
      "metadata": {
        "id": "Zw2YTpJ_x23A"
      },
      "execution_count": 339,
      "outputs": []
    },
    {
      "cell_type": "markdown",
      "source": [
        "#Decision Tree"
      ],
      "metadata": {
        "id": "kLAwshIzZ_vb"
      }
    },
    {
      "cell_type": "code",
      "source": [
        "from sklearn.tree import DecisionTreeRegressor\n",
        "\n",
        "dt = DecisionTreeRegressor()\n",
        "start = time()\n",
        "dt.fit(X_train_2dims, y_train)\n",
        "end = time()\n",
        "training_time_dt = end - start"
      ],
      "metadata": {
        "id": "sPwnRtX6Z_vb"
      },
      "execution_count": 340,
      "outputs": []
    },
    {
      "cell_type": "code",
      "source": [
        "X_test_dt = X_test_2dims\n",
        "start = time()\n",
        "for i in range(14):\n",
        "  y_pred_dt = lr.predict(X_test_dt)\n",
        "  X_14d = np.concatenate((X_test_dt[-1, 4:], y_pred_dt[-1,:].reshape((4))))\n",
        "  X_test_dt = np.concatenate((X_test_dt, X_14d.reshape(1,240)))\n",
        "end = time()\n",
        "testing_time_dt = end - start"
      ],
      "metadata": {
        "id": "zO62Yb_PZ_vb"
      },
      "execution_count": 341,
      "outputs": []
    },
    {
      "cell_type": "markdown",
      "source": [
        "#Transform"
      ],
      "metadata": {
        "id": "6nxoBs-ASKU5"
      }
    },
    {
      "cell_type": "code",
      "source": [
        "y_pred_lstm = sc.inverse_transform(y_pred_lstm)\n",
        "y_pred_rnn = sc.inverse_transform(y_pred_rnn)\n",
        "y_pred_svr = sc.inverse_transform(y_pred_svr)\n",
        "y_pred_mlp = sc.inverse_transform(y_pred_mlp)\n",
        "y_pred_kNN = sc.inverse_transform(y_pred_kNN)\n",
        "y_pred_lr = sc.inverse_transform(y_pred_lr)\n",
        "y_pred_dt = sc.inverse_transform(y_pred_dt)\n",
        "y_test = sc.inverse_transform(y_test)"
      ],
      "metadata": {
        "id": "AkQrW3-QNj_N"
      },
      "execution_count": 342,
      "outputs": []
    },
    {
      "cell_type": "markdown",
      "source": [
        "#Đồ thị ngày (Dự đoán 14 ngày tiếp theo)"
      ],
      "metadata": {
        "id": "0OSwbvViYFJr"
      }
    },
    {
      "cell_type": "code",
      "source": [
        "import matplotlib.pyplot as plt\n",
        "font = {'family': 'serif',\n",
        "        'color':  'darkred',\n",
        "        'weight': 'normal',\n",
        "        'size': 12,\n",
        "        }\n",
        "plt.figure(figsize = (15,8))\n",
        "plt.title('Bitcoin Stock Price Prediction 14 Days', fontdict=font)\n",
        "plt.xlabel('Days', fontdict=font)\n",
        "plt.ylabel('USD', fontdict=font)\n",
        "plt.plot(y_pred_lstm[-14:,0], label = 'LSTM')\n",
        "plt.plot(y_pred_rnn[-14:,0], label = 'RNN')\n",
        "plt.plot(y_pred_svr[-14:,0], label = 'SVR')\n",
        "plt.plot(y_pred_mlp[-14:,0], label = 'MLP')\n",
        "plt.plot(y_pred_kNN[-14:,0], label = 'kNN')\n",
        "plt.plot(y_pred_lr[-14:,0], label = 'LR')\n",
        "plt.plot(y_pred_dt[-14:,0], label = 'DT')\n",
        "plt.plot(y_test[-14:,0], label = 'Real Bitcoin stock price')\n",
        "plt.legend()\n",
        "plt.show()"
      ],
      "metadata": {
        "colab": {
          "base_uri": "https://localhost:8080/",
          "height": 516
        },
        "id": "JGWvPxncUmM8",
        "outputId": "c2ccc40a-ec38-4fb3-96fb-99b7d348981a"
      },
      "execution_count": 343,
      "outputs": [
        {
          "output_type": "display_data",
          "data": {
            "text/plain": [
              "<Figure size 1080x576 with 1 Axes>"
            ],
            "image/png": "[encoded data removed]"
          },
          "metadata": {
            "needs_background": "light"
          }
        }
      ]
    },
    {
      "cell_type": "markdown",
      "source": [
        "#So sánh thời gian Training"
      ],
      "metadata": {
        "id": "l2BfACExthIi"
      }
    },
    {
      "cell_type": "code",
      "source": [
        "print(\"LSTM: \", training_time_lstm)\n",
        "print(\"SVR: \", training_time_svr)\n",
        "print(\"Linear Regression: \", training_time_lr)\n",
        "print(\"MLP: \", training_time_mlp)\n",
        "print(\"RNN: \", training_time_rnn)\n",
        "print(\"kNN: \", training_time_kNN)\n",
        "print(\"Decision Tree: \", training_time_dt)"
      ],
      "metadata": {
        "colab": {
          "base_uri": "https://localhost:8080/"
        },
        "outputId": "b43e8271-5ef7-46ef-981d-6ec29baebd98",
        "id": "WzRheHhVthIn"
      },
      "execution_count": 372,
      "outputs": [
        {
          "output_type": "stream",
          "name": "stdout",
          "text": [
            "LSTM:  24.344502687454224\n",
            "SVR:  0.11846733093261719\n",
            "Linear Regression:  0.07486772537231445\n",
            "MLP:  0.06974244117736816\n",
            "RNN:  8.825072765350342\n",
            "kNN:  0.0009632110595703125\n",
            "Decision Tree:  0.17736554145812988\n"
          ]
        }
      ]
    },
    {
      "cell_type": "markdown",
      "source": [
        "#So sánh thời gian Testing"
      ],
      "metadata": {
        "id": "2oUiqPr_thIn"
      }
    },
    {
      "cell_type": "code",
      "source": [
        "print(\"LSTM: \", testing_time_lstm)\n",
        "print(\"SVR: \", testing_time_svr)\n",
        "print(\"Linear Regression: \", testing_time_lr)\n",
        "print(\"MLP: \", testing_time_mlp)\n",
        "print(\"RNN: \", testing_time_rnn)\n",
        "print(\"kNN: \", testing_time_kNN)\n",
        "print(\"Decision Tree: \", testing_time_dt)"
      ],
      "metadata": {
        "colab": {
          "base_uri": "https://localhost:8080/"
        },
        "outputId": "3a324b3c-dddb-481d-c898-b47fb1d71c98",
        "id": "ATaWzFwhthIn"
      },
      "execution_count": 373,
      "outputs": [
        {
          "output_type": "stream",
          "name": "stdout",
          "text": [
            "LSTM:  4.699127912521362\n",
            "SVR:  0.4390895366668701\n",
            "Linear Regression:  0.013092994689941406\n",
            "MLP:  0.010719776153564453\n",
            "RNN:  2.1903939247131348\n",
            "kNN:  0.1037907600402832\n",
            "Decision Tree:  0.008199214935302734\n"
          ]
        }
      ]
    },
    {
      "cell_type": "markdown",
      "source": [
        "#So sánh MSE theo đồ thị ngày"
      ],
      "metadata": {
        "id": "qrek6-Urc1F0"
      }
    },
    {
      "cell_type": "code",
      "source": [
        "from sklearn.metrics import mean_squared_error\n",
        "\n",
        "print(\"LSTM: \", mean_squared_error(y_pred_lstm[-14:], y_test[-14:]))\n",
        "print(\"SVR: \", mean_squared_error(y_pred_svr[-14:], y_test[-14:]))\n",
        "print(\"Linear Regression: \", mean_squared_error(y_pred_lr[-14:], y_test[-14:]))\n",
        "print(\"MLP: \", mean_squared_error(y_pred_mlp[-14:], y_test[-14:]))\n",
        "print(\"RNN: \", mean_squared_error(y_pred_rnn[-14:], y_test[-14:]))\n",
        "print(\"kNN: \", mean_squared_error(y_pred_kNN[-14:], y_test[-14:]))\n",
        "print(\"Decision Tree: \", mean_squared_error(y_pred_dt[-14:], y_test[-14:]))"
      ],
      "metadata": {
        "colab": {
          "base_uri": "https://localhost:8080/"
        },
        "outputId": "59e29f3d-6944-46a8-b9bf-7972bd8dd27f",
        "id": "qVmlk23bc1F6"
      },
      "execution_count": 344,
      "outputs": [
        {
          "output_type": "stream",
          "name": "stdout",
          "text": [
            "LSTM:  45406261.46286681\n",
            "SVR:  170681354.88993704\n",
            "Linear Regression:  32516135.640917353\n",
            "MLP:  126998281.44868317\n",
            "RNN:  3857501.155911948\n",
            "kNN:  232030261.86620915\n",
            "Decision Tree:  32516135.640917353\n"
          ]
        }
      ]
    },
    {
      "cell_type": "markdown",
      "source": [
        "#**Dự đoán theo tuần**"
      ],
      "metadata": {
        "id": "Y1PRIAiyYQMy"
      }
    },
    {
      "cell_type": "markdown",
      "source": [
        "#Biến đổi dữ liệu theo tuần"
      ],
      "metadata": {
        "id": "V1BIVYIIYfKd"
      }
    },
    {
      "cell_type": "code",
      "source": [
        "import statistics as stt\n",
        "\n",
        "X_week = []\n",
        "y_week = []\n",
        "data_week = []\n",
        "for i in range(0, len(training_set), 7):\n",
        "  a = stt.mean(training_set.values[i:i+7,0])\n",
        "  b = np.max(training_set.values[i:i+7,1])\n",
        "  c = np.min(training_set.values[i:i+7,2])\n",
        "  d = stt.mean(training_set.values[i:i+7,3])\n",
        "  data_week.append([a,b,c,d])\n",
        "data_week = np.array(sc.transform(data_week))\n",
        "print(data_week.shape)\n",
        "\n",
        "for i in range(5, len(data_week)):\n",
        "    X_week.append(data_week[i-5:i])\n",
        "    y_week.append(data_week[i])\n",
        "X_week, y_week = np.array(X_week), np.array(y_week)\n",
        "print(X_week.shape, y_week.shape)"
      ],
      "metadata": {
        "id": "xRWvA9Z8otfq",
        "colab": {
          "base_uri": "https://localhost:8080/"
        },
        "outputId": "b6a8310a-0f4d-46e2-e7c0-9a75dc093f7a"
      },
      "execution_count": 345,
      "outputs": [
        {
          "output_type": "stream",
          "name": "stdout",
          "text": [
            "(157, 4)\n",
            "(152, 5, 4) (152, 4)\n"
          ]
        }
      ]
    },
    {
      "cell_type": "code",
      "source": [
        "split_index = int(np.ceil(len(X_week)*0.8))\n",
        "X_week_train, X_week_test = X_week[:split_index], X_week[split_index:-7]\n",
        "y_week_train, y_week_test = y_week[:split_index], y_week[split_index:]\n",
        "X_week_val , y_week_val = X_week[split_index:split_index+10], y_week[split_index:split_index+10]\n",
        "print(X_week.shape, X_week_test.shape, y_week_train.shape)"
      ],
      "metadata": {
        "id": "zf1YepSbX9GL",
        "colab": {
          "base_uri": "https://localhost:8080/"
        },
        "outputId": "13f2a33e-f103-4875-81dd-ab7de95b8ae3"
      },
      "execution_count": 346,
      "outputs": [
        {
          "output_type": "stream",
          "name": "stdout",
          "text": [
            "(152, 5, 4) (23, 5, 4) (122, 4)\n"
          ]
        }
      ]
    },
    {
      "cell_type": "markdown",
      "source": [
        "#LSTM"
      ],
      "metadata": {
        "id": "PJluNw526ae_"
      }
    },
    {
      "cell_type": "code",
      "source": [
        "lstm_week = Sequential()\n",
        "lstm_week.add(LSTM(units = 32, return_sequences = True, input_shape = (X_week_train.shape[1], X_week_train.shape[2])))\n",
        "lstm_week.add(LSTM(units = 32, return_sequences = False))\n",
        "lstm_week.add(Dense(units = 4))\n",
        "\n",
        "lstm_week.compile(optimizer = 'adam', loss = 'mean_squared_error')\n",
        "\n",
        "start = time()\n",
        "lstm_week.fit(X_week_train, y_week_train, epochs = 10, batch_size = 32, validation_data=(X_week_val, y_week_val))\n",
        "end = time()\n",
        "training_time_lstm_week = end - start\n",
        "lstm_week.build(X_week_train.shape)\n",
        "lstm_week.summary()"
      ],
      "metadata": {
        "colab": {
          "base_uri": "https://localhost:8080/"
        },
        "id": "YqpoCroh8Ija",
        "outputId": "f24775a0-6f20-4be5-9eb4-8650d5a22fb0"
      },
      "execution_count": 347,
      "outputs": [
        {
          "output_type": "stream",
          "name": "stdout",
          "text": [
            "Epoch 1/10\n",
            "4/4 [==============================] - 5s 522ms/step - loss: 1.1079 - val_loss: 0.1119\n",
            "Epoch 2/10\n",
            "4/4 [==============================] - 0s 14ms/step - loss: 0.9688 - val_loss: 0.1022\n",
            "Epoch 3/10\n",
            "4/4 [==============================] - 0s 15ms/step - loss: 0.8298 - val_loss: 0.0968\n",
            "Epoch 4/10\n",
            "4/4 [==============================] - 0s 16ms/step - loss: 0.6852 - val_loss: 0.0986\n",
            "Epoch 5/10\n",
            "4/4 [==============================] - 0s 15ms/step - loss: 0.5256 - val_loss: 0.1155\n",
            "Epoch 6/10\n",
            "4/4 [==============================] - 0s 14ms/step - loss: 0.3810 - val_loss: 0.1617\n",
            "Epoch 7/10\n",
            "4/4 [==============================] - 0s 14ms/step - loss: 0.2557 - val_loss: 0.2430\n",
            "Epoch 8/10\n",
            "4/4 [==============================] - 0s 17ms/step - loss: 0.1857 - val_loss: 0.3401\n",
            "Epoch 9/10\n",
            "4/4 [==============================] - 0s 20ms/step - loss: 0.1517 - val_loss: 0.3916\n",
            "Epoch 10/10\n",
            "4/4 [==============================] - 0s 17ms/step - loss: 0.1353 - val_loss: 0.3911\n",
            "Model: \"sequential_32\"\n",
            "_________________________________________________________________\n",
            " Layer (type)                Output Shape              Param #   \n",
            "=================================================================\n",
            " lstm_32 (LSTM)              (None, 5, 32)             4736      \n",
            "                                                                 \n",
            " lstm_33 (LSTM)              (None, 32)                8320      \n",
            "                                                                 \n",
            " dense_32 (Dense)            (None, 4)                 132       \n",
            "                                                                 \n",
            "=================================================================\n",
            "Total params: 13,188\n",
            "Trainable params: 13,188\n",
            "Non-trainable params: 0\n",
            "_________________________________________________________________\n"
          ]
        }
      ]
    },
    {
      "cell_type": "code",
      "source": [
        "X_test_lstm_week = X_week_test\n",
        "start = time()\n",
        "for i in range(7):\n",
        "  y_week_pred_lstm = lstm_week.predict(X_test_lstm_week)\n",
        "  X_7w = np.concatenate((X_test_lstm_week[-1, 1:, :], y_week_pred_lstm[-1,:].reshape((1,4))))\n",
        "  X_test_lstm_week = np.concatenate((X_test_lstm_week, X_7w.reshape(1,5,4)))\n",
        "end = time()\n",
        "testing_time_lstm_week = end - start"
      ],
      "metadata": {
        "colab": {
          "base_uri": "https://localhost:8080/"
        },
        "id": "uRkRM3B96Xfp",
        "outputId": "de0f1f5f-75c8-4d2d-c0e8-42cf4bdf7a87"
      },
      "execution_count": 348,
      "outputs": [
        {
          "output_type": "stream",
          "name": "stdout",
          "text": [
            "1/1 [==============================] - 1s 929ms/step\n",
            "1/1 [==============================] - 0s 19ms/step\n",
            "1/1 [==============================] - 0s 18ms/step\n",
            "1/1 [==============================] - 0s 20ms/step\n",
            "1/1 [==============================] - 0s 19ms/step\n",
            "1/1 [==============================] - 0s 22ms/step\n",
            "1/1 [==============================] - 0s 19ms/step\n"
          ]
        }
      ]
    },
    {
      "cell_type": "markdown",
      "source": [
        "#MLP"
      ],
      "metadata": {
        "id": "JbTxcRFYadP2"
      }
    },
    {
      "cell_type": "code",
      "source": [
        "X_week_train_2dims = X_week_train.reshape((X_week_train.shape[0], X_week_train.shape[1]*X_week_train.shape[2]))\n",
        "X_week_test_2dims = X_week_test.reshape((X_week_test.shape[0], X_week_test.shape[1]*X_week_test.shape[2]))"
      ],
      "metadata": {
        "id": "uik4maLkBEMo"
      },
      "execution_count": 349,
      "outputs": []
    },
    {
      "cell_type": "code",
      "source": [
        "mlp_week = MLPRegressor(hidden_layer_sizes=8, activation='relu', solver='sgd', learning_rate = 'invscaling')\n",
        "start = time()\n",
        "mlp_week.fit(X_week_train_2dims, y_week_train)\n",
        "end = time()\n",
        "training_time_mlp_week = end - start"
      ],
      "metadata": {
        "colab": {
          "base_uri": "https://localhost:8080/"
        },
        "outputId": "f22091dc-9510-49ac-8f0c-1934dbb1ba32",
        "id": "HPQRGruwaRH0"
      },
      "execution_count": 350,
      "outputs": [
        {
          "output_type": "stream",
          "name": "stderr",
          "text": [
            "/usr/local/lib/python3.8/dist-packages/sklearn/neural_network/_multilayer_perceptron.py:692: ConvergenceWarning: Stochastic Optimizer: Maximum iterations (200) reached and the optimization hasn't converged yet.\n",
            "  warnings.warn(\n"
          ]
        }
      ]
    },
    {
      "cell_type": "code",
      "source": [
        "X_week_test_mlp = X_week_test_2dims\n",
        "start = time()\n",
        "for i in range(7):\n",
        "  y_week_pred_mlp = mlp_week.predict(X_week_test_mlp)\n",
        "  X_7w = np.concatenate((X_week_test_mlp[-1, 4:], y_week_pred_mlp[-1,:].reshape((4))))\n",
        "  X_week_test_mlp = np.concatenate((X_week_test_mlp, X_7w.reshape(1,20)))\n",
        "end = time()\n",
        "testing_time_mlp_week = end - start"
      ],
      "metadata": {
        "id": "U-U6hrB7aRH2"
      },
      "execution_count": 351,
      "outputs": []
    },
    {
      "cell_type": "markdown",
      "source": [
        "#RNN"
      ],
      "metadata": {
        "id": "1sXTnyABiQje"
      }
    },
    {
      "cell_type": "code",
      "source": [
        "rnn_week = Sequential()\n",
        "rnn_week.add(SimpleRNN(units = 64, return_sequences = True, input_shape = (X_week_train.shape[1], X_week_train.shape[2])))\n",
        "rnn_week.add(SimpleRNN(units = 32, return_sequences = False))\n",
        "rnn_week.add(Dense(units = 4))\n",
        "\n",
        "rnn_week.compile(optimizer = 'adam', loss = 'mean_squared_error')\n",
        "start = time()\n",
        "rnn_week.fit(X_week_train, y_week_train, epochs = 10, batch_size = 32, validation_data=(X_week_val, y_week_val))\n",
        "end = time()\n",
        "training_time_rnn_week = end - start\n",
        "rnn_week.build(X_week_train.shape)"
      ],
      "metadata": {
        "colab": {
          "base_uri": "https://localhost:8080/"
        },
        "outputId": "a187273e-f557-41ea-b350-8379ac8e26c7",
        "id": "j72cbzuNiQjo"
      },
      "execution_count": 352,
      "outputs": [
        {
          "output_type": "stream",
          "name": "stdout",
          "text": [
            "Epoch 1/10\n",
            "4/4 [==============================] - 2s 119ms/step - loss: 0.2897 - val_loss: 0.3925\n",
            "Epoch 2/10\n",
            "4/4 [==============================] - 0s 11ms/step - loss: 0.1448 - val_loss: 0.3994\n",
            "Epoch 3/10\n",
            "4/4 [==============================] - 0s 13ms/step - loss: 0.1363 - val_loss: 0.3885\n",
            "Epoch 4/10\n",
            "4/4 [==============================] - 0s 11ms/step - loss: 0.1096 - val_loss: 0.2614\n",
            "Epoch 5/10\n",
            "4/4 [==============================] - 0s 11ms/step - loss: 0.0841 - val_loss: 0.1947\n",
            "Epoch 6/10\n",
            "4/4 [==============================] - 0s 11ms/step - loss: 0.0752 - val_loss: 0.1795\n",
            "Epoch 7/10\n",
            "4/4 [==============================] - 0s 12ms/step - loss: 0.0684 - val_loss: 0.1433\n",
            "Epoch 8/10\n",
            "4/4 [==============================] - 0s 11ms/step - loss: 0.0592 - val_loss: 0.1481\n",
            "Epoch 9/10\n",
            "4/4 [==============================] - 0s 14ms/step - loss: 0.0542 - val_loss: 0.1398\n",
            "Epoch 10/10\n",
            "4/4 [==============================] - 0s 16ms/step - loss: 0.0512 - val_loss: 0.1157\n"
          ]
        }
      ]
    },
    {
      "cell_type": "code",
      "source": [
        "X_test_rnn_week = X_week_test\n",
        "start = time()\n",
        "for i in range(7):\n",
        "  y_week_pred_rnn = rnn_week.predict(X_test_rnn_week)\n",
        "  X_7w = np.concatenate((X_test_rnn_week[-1, 1:, :], y_week_pred_rnn[-1,:].reshape((1,4))))\n",
        "  X_test_rnn_week = np.concatenate((X_test_rnn_week, X_7w.reshape(1,5,4)))\n",
        "end = time()\n",
        "testing_time_rnn_week = end - start\n"
      ],
      "metadata": {
        "colab": {
          "base_uri": "https://localhost:8080/"
        },
        "outputId": "04f96dde-7cd7-413c-d1e7-d42d126298b2",
        "id": "OJKq9820iQjp"
      },
      "execution_count": 353,
      "outputs": [
        {
          "output_type": "stream",
          "name": "stdout",
          "text": [
            "1/1 [==============================] - 0s 277ms/step\n",
            "1/1 [==============================] - 0s 25ms/step\n",
            "1/1 [==============================] - 0s 22ms/step\n",
            "1/1 [==============================] - 0s 18ms/step\n",
            "1/1 [==============================] - 0s 18ms/step\n",
            "1/1 [==============================] - 0s 18ms/step\n",
            "1/1 [==============================] - 0s 18ms/step\n"
          ]
        }
      ]
    },
    {
      "cell_type": "markdown",
      "source": [
        "#SVM"
      ],
      "metadata": {
        "id": "WZwHor-siQjp"
      }
    },
    {
      "cell_type": "code",
      "source": [
        "from sklearn.svm import SVR\n",
        "from sklearn.multioutput import MultiOutputRegressor\n",
        "\n",
        "svr_week = MultiOutputRegressor(SVR())\n",
        "start = time()\n",
        "svr_week.fit(X_week_train_2dims, y_week_train)\n",
        "end = time()\n",
        "training_time_svr_week = end - start"
      ],
      "metadata": {
        "id": "EJe2PIv2iQjp"
      },
      "execution_count": 354,
      "outputs": []
    },
    {
      "cell_type": "code",
      "source": [
        "X_week_test_svr = X_week_test_2dims\n",
        "start = time()\n",
        "for i in range(7):\n",
        "  y_week_pred_svr = svr_week.predict(X_week_test_svr)\n",
        "  X_7w = np.concatenate((X_week_test_svr[-1, 4:], y_week_pred_svr[-1,:].reshape((4))))\n",
        "  X_week_test_svr = np.concatenate((X_week_test_svr, X_7w.reshape(1,20)))\n",
        "end = time()\n",
        "testing_time_svr_week = end - start"
      ],
      "metadata": {
        "id": "gIEe6OibiQjp"
      },
      "execution_count": 355,
      "outputs": []
    },
    {
      "cell_type": "markdown",
      "source": [
        "#kNN"
      ],
      "metadata": {
        "id": "MtOafYTzpENp"
      }
    },
    {
      "cell_type": "code",
      "source": [
        "kNN_week = KNeighborsRegressor()\n",
        "start = time()\n",
        "kNN_week.fit(X_week_train_2dims, y_week_train)\n",
        "end = time()\n",
        "training_time_kNN_week = end - start"
      ],
      "metadata": {
        "id": "0UlsJOtDpEfZ"
      },
      "execution_count": 356,
      "outputs": []
    },
    {
      "cell_type": "code",
      "source": [
        "X_week_test_kNN = X_week_test_2dims\n",
        "start = time()\n",
        "for i in range(7):\n",
        "  y_week_pred_kNN = kNN_week.predict(X_week_test_kNN)\n",
        "  X_7w = np.concatenate((X_week_test_kNN[-1, 4:], y_week_pred_kNN[-1,:].reshape((4))))\n",
        "  X_week_test_kNN = np.concatenate((X_week_test_kNN, X_7w.reshape(1,20)))\n",
        "end = time()\n",
        "testing_time_kNN_week = end - start"
      ],
      "metadata": {
        "id": "mOy9rZvCqF_6"
      },
      "execution_count": 357,
      "outputs": []
    },
    {
      "cell_type": "markdown",
      "source": [
        "#Decision Tree"
      ],
      "metadata": {
        "id": "daw3gXDvWuvT"
      }
    },
    {
      "cell_type": "code",
      "source": [
        "dt_week = DecisionTreeRegressor()\n",
        "start = time()\n",
        "dt_week.fit(X_week_train_2dims, y_week_train)\n",
        "end = time()\n",
        "training_time_dt_week = end - start"
      ],
      "metadata": {
        "id": "BgcHFdAJWuvU"
      },
      "execution_count": 358,
      "outputs": []
    },
    {
      "cell_type": "code",
      "source": [
        "X_week_test_dt = X_week_test_2dims\n",
        "start = time()\n",
        "for i in range(7):\n",
        "  y_week_pred_dt = dt_week.predict(X_week_test_dt)\n",
        "  X_7w = np.concatenate((X_week_test_dt[-1, 4:], y_week_pred_dt[-1,:].reshape((4))))\n",
        "  X_week_test_dt = np.concatenate((X_week_test_dt, X_7w.reshape(1,20)))\n",
        "end = time()\n",
        "testing_time_dt_week = end - start"
      ],
      "metadata": {
        "id": "BwnoQU80WuvU"
      },
      "execution_count": 359,
      "outputs": []
    },
    {
      "cell_type": "markdown",
      "source": [
        "#Linear Regression"
      ],
      "metadata": {
        "id": "D4DxTZIyyPhj"
      }
    },
    {
      "cell_type": "code",
      "source": [
        "lr_week = LinearRegression()\n",
        "start = time()\n",
        "lr_week.fit(X_week_train_2dims, y_week_train)\n",
        "end = time()\n",
        "training_time_lr_week = end - start"
      ],
      "metadata": {
        "id": "cn124UFKyPhk"
      },
      "execution_count": 360,
      "outputs": []
    },
    {
      "cell_type": "code",
      "source": [
        "X_week_test_lr = X_week_test_2dims\n",
        "start = time()\n",
        "for i in range(7):\n",
        "  y_week_pred_lr = lr_week.predict(X_week_test_lr)\n",
        "  X_7w = np.concatenate((X_week_test_lr[-1, 4:], y_week_pred_lr[-1,:].reshape((4))))\n",
        "  X_week_test_lr = np.concatenate((X_week_test_lr, X_7w.reshape(1,20)))\n",
        "end = time()\n",
        "testing_time_lr_week = end - start"
      ],
      "metadata": {
        "id": "XNqgwFDEyPhk"
      },
      "execution_count": 361,
      "outputs": []
    },
    {
      "cell_type": "markdown",
      "source": [
        "#Inverse Transform"
      ],
      "metadata": {
        "id": "XeV0icuyAtky"
      }
    },
    {
      "cell_type": "code",
      "source": [
        "y_week_pred_lstm = sc.inverse_transform(y_week_pred_lstm)\n",
        "y_week_test = sc.inverse_transform(y_week_test)\n",
        "y_week_pred_mlp = sc.inverse_transform(y_week_pred_mlp)\n",
        "y_week_pred_rnn = sc.inverse_transform(y_week_pred_rnn)\n",
        "y_week_pred_kNN = sc.inverse_transform(y_week_pred_kNN)\n",
        "y_week_pred_lr = sc.inverse_transform(y_week_pred_lr)\n",
        "y_week_pred_dt = sc.inverse_transform(y_week_pred_dt)\n",
        "y_week_pred_svr = sc.inverse_transform(y_week_pred_svr)"
      ],
      "metadata": {
        "id": "SbQtFTx_AjX_"
      },
      "execution_count": 362,
      "outputs": []
    },
    {
      "cell_type": "markdown",
      "source": [
        "#Đồ thị tuần (Dự đoán 7 tuần tiếp theo)"
      ],
      "metadata": {
        "id": "hisc9dANYfOx"
      }
    },
    {
      "cell_type": "code",
      "source": [
        "font = {'family': 'serif',\n",
        "        'color':  'darkred',\n",
        "        'weight': 'normal',\n",
        "        'size': 12,\n",
        "        }\n",
        "plt.figure(figsize = (15,8))\n",
        "plt.title('Bitcoin Stock Price Prediction 7 Weeks', fontdict=font)\n",
        "plt.xlabel('Weeks', fontdict=font)\n",
        "plt.ylabel('USD', fontdict=font)\n",
        "plt.plot(y_week_pred_lstm[-7:,0], label = 'LSTM')\n",
        "plt.plot(y_week_pred_mlp[-7:,0], label = 'MLP')\n",
        "plt.plot(y_week_pred_rnn[-7:,0], label = 'RNN')\n",
        "plt.plot(y_week_pred_svr[-7:,0], label = 'SVR')\n",
        "plt.plot(y_week_pred_kNN[-7:,0], label = 'kNN')\n",
        "plt.plot(y_week_pred_lr[-7:,0], label = 'LR')\n",
        "plt.plot(y_week_pred_dt[-7:,0], label = 'DT')\n",
        "plt.plot(y_week_test[-7:,0], label = 'Real Bitcoin stock price')\n",
        "plt.legend()\n",
        "plt.show()"
      ],
      "metadata": {
        "colab": {
          "base_uri": "https://localhost:8080/",
          "height": 516
        },
        "id": "2NzYlQHU--iU",
        "outputId": "73457146-84be-4ed6-c9af-93f8637ef0f1"
      },
      "execution_count": 363,
      "outputs": [
        {
          "output_type": "display_data",
          "data": {
            "text/plain": [
              "<Figure size 1080x576 with 1 Axes>"
            ],
            "image/png": "[encoded data removed]"
          },
          "metadata": {
            "needs_background": "light"
          }
        }
      ]
    },
    {
      "cell_type": "markdown",
      "source": [
        "#So sánh thời gian Training"
      ],
      "metadata": {
        "id": "0g-O_WeLrZ-R"
      }
    },
    {
      "cell_type": "code",
      "source": [
        "print(\"LSTM: \", training_time_lstm_week)\n",
        "print(\"SVR: \", training_time_svr_week)\n",
        "print(\"Linear Regression: \", training_time_lr_week)\n",
        "print(\"MLP: \", training_time_mlp_week)\n",
        "print(\"RNN: \", training_time_rnn_week)\n",
        "print(\"kNN: \", training_time_kNN_week)\n",
        "print(\"Decision Tree: \", training_time_dt_week)"
      ],
      "metadata": {
        "colab": {
          "base_uri": "https://localhost:8080/"
        },
        "id": "bLmAzD7krcAA",
        "outputId": "736b4d72-95fc-4987-d40d-0172ce26996d"
      },
      "execution_count": 369,
      "outputs": [
        {
          "output_type": "stream",
          "name": "stdout",
          "text": [
            "LSTM:  6.1341776847839355\n",
            "SVR:  0.010627985000610352\n",
            "Linear Regression:  0.0020546913146972656\n",
            "MLP:  0.1069333553314209\n",
            "RNN:  2.4401466846466064\n",
            "kNN:  0.0008513927459716797\n",
            "Decision Tree:  0.00398564338684082\n"
          ]
        }
      ]
    },
    {
      "cell_type": "markdown",
      "source": [
        "#So sánh thời gian Testing"
      ],
      "metadata": {
        "id": "bTupW_jMs5XU"
      }
    },
    {
      "cell_type": "code",
      "source": [
        "print(\"LSTM: \", testing_time_lstm_week)\n",
        "print(\"SVR: \", testing_time_svr_week)\n",
        "print(\"Linear Regression: \", testing_time_lr_week)\n",
        "print(\"MLP: \", testing_time_mlp_week)\n",
        "print(\"RNN: \", testing_time_rnn_week)\n",
        "print(\"kNN: \", testing_time_kNN_week)\n",
        "print(\"Decision Tree: \", testing_time_dt_week)"
      ],
      "metadata": {
        "colab": {
          "base_uri": "https://localhost:8080/"
        },
        "outputId": "be062221-2981-454e-99ae-335f5d58dcd7",
        "id": "obiaXyXbs5XZ"
      },
      "execution_count": 370,
      "outputs": [
        {
          "output_type": "stream",
          "name": "stdout",
          "text": [
            "LSTM:  1.3416192531585693\n",
            "SVR:  0.015671968460083008\n",
            "Linear Regression:  0.003014087677001953\n",
            "MLP:  0.002686023712158203\n",
            "RNN:  0.6729025840759277\n",
            "kNN:  0.008563756942749023\n",
            "Decision Tree:  0.001771688461303711\n"
          ]
        }
      ]
    },
    {
      "cell_type": "markdown",
      "source": [
        "#So sánh MSE của các model theo đồ thị tuần"
      ],
      "metadata": {
        "id": "YN82e6AR1SEM"
      }
    },
    {
      "cell_type": "code",
      "source": [
        "print(\"LSTM: \", mean_squared_error(y_week_pred_lstm[-7:], y_week_test[-7:]))\n",
        "print(\"SVR: \", mean_squared_error(y_week_pred_svr[-7:], y_week_test[-7:]))\n",
        "print(\"Linear Regression: \", mean_squared_error(y_week_pred_lr[-7:], y_week_test[-7:]))\n",
        "print(\"MLP: \", mean_squared_error(y_week_pred_mlp[-7:], y_week_test[-7:]))\n",
        "print(\"RNN: \", mean_squared_error(y_week_pred_rnn[-7:], y_week_test[-7:]))\n",
        "print(\"kNN: \", mean_squared_error(y_week_pred_kNN[-7:], y_week_test[-7:]))\n",
        "print(\"Decision Tree: \", mean_squared_error(y_week_pred_dt[-7:], y_week_test[-7:]))"
      ],
      "metadata": {
        "colab": {
          "base_uri": "https://localhost:8080/"
        },
        "id": "4iHowCfS1UOc",
        "outputId": "f214a4bf-94e5-4f34-e791-c9e8fb27e36a"
      },
      "execution_count": 365,
      "outputs": [
        {
          "output_type": "stream",
          "name": "stdout",
          "text": [
            "LSTM:  8049704.500351002\n",
            "SVR:  192695364.27619964\n",
            "Linear Regression:  6325133.990570074\n",
            "MLP:  73397954.66213855\n",
            "RNN:  8379791.932399608\n",
            "kNN:  160080514.74430302\n",
            "Decision Tree:  135383113.70457017\n"
          ]
        }
      ]
    }
  ]
}